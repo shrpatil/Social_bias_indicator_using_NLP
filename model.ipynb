{
  "nbformat": 4,
  "nbformat_minor": 0,
  "metadata": {
    "colab": {
      "provenance": [],
      "machine_shape": "hm"
    },
    "kernelspec": {
      "name": "python3",
      "display_name": "Python 3"
    },
    "language_info": {
      "name": "python"
    },
    "accelerator": "GPU",
    "gpuClass": "standard",
    "widgets": {
      "application/vnd.jupyter.widget-state+json": {
        "71325407fd0f439fa93918cdeb9e0ff9": {
          "model_module": "@jupyter-widgets/controls",
          "model_name": "HBoxModel",
          "model_module_version": "1.5.0",
          "state": {
            "_dom_classes": [],
            "_model_module": "@jupyter-widgets/controls",
            "_model_module_version": "1.5.0",
            "_model_name": "HBoxModel",
            "_view_count": null,
            "_view_module": "@jupyter-widgets/controls",
            "_view_module_version": "1.5.0",
            "_view_name": "HBoxView",
            "box_style": "",
            "children": [
              "IPY_MODEL_1e56b139db3846b5b2bcb8de98afddb4",
              "IPY_MODEL_ccdb9a08dca4459db19a5ee108c547cb",
              "IPY_MODEL_3e11e103e591421885366cf73e0d8851"
            ],
            "layout": "IPY_MODEL_46d1bd68f69148688ba4eb82b8f7e6ce"
          }
        },
        "1e56b139db3846b5b2bcb8de98afddb4": {
          "model_module": "@jupyter-widgets/controls",
          "model_name": "HTMLModel",
          "model_module_version": "1.5.0",
          "state": {
            "_dom_classes": [],
            "_model_module": "@jupyter-widgets/controls",
            "_model_module_version": "1.5.0",
            "_model_name": "HTMLModel",
            "_view_count": null,
            "_view_module": "@jupyter-widgets/controls",
            "_view_module_version": "1.5.0",
            "_view_name": "HTMLView",
            "description": "",
            "description_tooltip": null,
            "layout": "IPY_MODEL_9eca9b8f1b18447eb2f6522c908890c7",
            "placeholder": "​",
            "style": "IPY_MODEL_bf59e38d37574a20bb4ece61005071ef",
            "value": "Downloading: 100%"
          }
        },
        "ccdb9a08dca4459db19a5ee108c547cb": {
          "model_module": "@jupyter-widgets/controls",
          "model_name": "FloatProgressModel",
          "model_module_version": "1.5.0",
          "state": {
            "_dom_classes": [],
            "_model_module": "@jupyter-widgets/controls",
            "_model_module_version": "1.5.0",
            "_model_name": "FloatProgressModel",
            "_view_count": null,
            "_view_module": "@jupyter-widgets/controls",
            "_view_module_version": "1.5.0",
            "_view_name": "ProgressView",
            "bar_style": "success",
            "description": "",
            "description_tooltip": null,
            "layout": "IPY_MODEL_ff77ee0f9ae5481e9fbecf9fc6fdd2ca",
            "max": 1042301,
            "min": 0,
            "orientation": "horizontal",
            "style": "IPY_MODEL_a62081ad70bd452384253d771a84c5b5",
            "value": 1042301
          }
        },
        "3e11e103e591421885366cf73e0d8851": {
          "model_module": "@jupyter-widgets/controls",
          "model_name": "HTMLModel",
          "model_module_version": "1.5.0",
          "state": {
            "_dom_classes": [],
            "_model_module": "@jupyter-widgets/controls",
            "_model_module_version": "1.5.0",
            "_model_name": "HTMLModel",
            "_view_count": null,
            "_view_module": "@jupyter-widgets/controls",
            "_view_module_version": "1.5.0",
            "_view_name": "HTMLView",
            "description": "",
            "description_tooltip": null,
            "layout": "IPY_MODEL_5ce3242286ac499e9a214f59a07f6bde",
            "placeholder": "​",
            "style": "IPY_MODEL_250ca3dd383e4e09b8ddc4a08cd8b43c",
            "value": " 1.04M/1.04M [00:01&lt;00:00, 831kB/s]"
          }
        },
        "46d1bd68f69148688ba4eb82b8f7e6ce": {
          "model_module": "@jupyter-widgets/base",
          "model_name": "LayoutModel",
          "model_module_version": "1.2.0",
          "state": {
            "_model_module": "@jupyter-widgets/base",
            "_model_module_version": "1.2.0",
            "_model_name": "LayoutModel",
            "_view_count": null,
            "_view_module": "@jupyter-widgets/base",
            "_view_module_version": "1.2.0",
            "_view_name": "LayoutView",
            "align_content": null,
            "align_items": null,
            "align_self": null,
            "border": null,
            "bottom": null,
            "display": null,
            "flex": null,
            "flex_flow": null,
            "grid_area": null,
            "grid_auto_columns": null,
            "grid_auto_flow": null,
            "grid_auto_rows": null,
            "grid_column": null,
            "grid_gap": null,
            "grid_row": null,
            "grid_template_areas": null,
            "grid_template_columns": null,
            "grid_template_rows": null,
            "height": null,
            "justify_content": null,
            "justify_items": null,
            "left": null,
            "margin": null,
            "max_height": null,
            "max_width": null,
            "min_height": null,
            "min_width": null,
            "object_fit": null,
            "object_position": null,
            "order": null,
            "overflow": null,
            "overflow_x": null,
            "overflow_y": null,
            "padding": null,
            "right": null,
            "top": null,
            "visibility": null,
            "width": null
          }
        },
        "9eca9b8f1b18447eb2f6522c908890c7": {
          "model_module": "@jupyter-widgets/base",
          "model_name": "LayoutModel",
          "model_module_version": "1.2.0",
          "state": {
            "_model_module": "@jupyter-widgets/base",
            "_model_module_version": "1.2.0",
            "_model_name": "LayoutModel",
            "_view_count": null,
            "_view_module": "@jupyter-widgets/base",
            "_view_module_version": "1.2.0",
            "_view_name": "LayoutView",
            "align_content": null,
            "align_items": null,
            "align_self": null,
            "border": null,
            "bottom": null,
            "display": null,
            "flex": null,
            "flex_flow": null,
            "grid_area": null,
            "grid_auto_columns": null,
            "grid_auto_flow": null,
            "grid_auto_rows": null,
            "grid_column": null,
            "grid_gap": null,
            "grid_row": null,
            "grid_template_areas": null,
            "grid_template_columns": null,
            "grid_template_rows": null,
            "height": null,
            "justify_content": null,
            "justify_items": null,
            "left": null,
            "margin": null,
            "max_height": null,
            "max_width": null,
            "min_height": null,
            "min_width": null,
            "object_fit": null,
            "object_position": null,
            "order": null,
            "overflow": null,
            "overflow_x": null,
            "overflow_y": null,
            "padding": null,
            "right": null,
            "top": null,
            "visibility": null,
            "width": null
          }
        },
        "bf59e38d37574a20bb4ece61005071ef": {
          "model_module": "@jupyter-widgets/controls",
          "model_name": "DescriptionStyleModel",
          "model_module_version": "1.5.0",
          "state": {
            "_model_module": "@jupyter-widgets/controls",
            "_model_module_version": "1.5.0",
            "_model_name": "DescriptionStyleModel",
            "_view_count": null,
            "_view_module": "@jupyter-widgets/base",
            "_view_module_version": "1.2.0",
            "_view_name": "StyleView",
            "description_width": ""
          }
        },
        "ff77ee0f9ae5481e9fbecf9fc6fdd2ca": {
          "model_module": "@jupyter-widgets/base",
          "model_name": "LayoutModel",
          "model_module_version": "1.2.0",
          "state": {
            "_model_module": "@jupyter-widgets/base",
            "_model_module_version": "1.2.0",
            "_model_name": "LayoutModel",
            "_view_count": null,
            "_view_module": "@jupyter-widgets/base",
            "_view_module_version": "1.2.0",
            "_view_name": "LayoutView",
            "align_content": null,
            "align_items": null,
            "align_self": null,
            "border": null,
            "bottom": null,
            "display": null,
            "flex": null,
            "flex_flow": null,
            "grid_area": null,
            "grid_auto_columns": null,
            "grid_auto_flow": null,
            "grid_auto_rows": null,
            "grid_column": null,
            "grid_gap": null,
            "grid_row": null,
            "grid_template_areas": null,
            "grid_template_columns": null,
            "grid_template_rows": null,
            "height": null,
            "justify_content": null,
            "justify_items": null,
            "left": null,
            "margin": null,
            "max_height": null,
            "max_width": null,
            "min_height": null,
            "min_width": null,
            "object_fit": null,
            "object_position": null,
            "order": null,
            "overflow": null,
            "overflow_x": null,
            "overflow_y": null,
            "padding": null,
            "right": null,
            "top": null,
            "visibility": null,
            "width": null
          }
        },
        "a62081ad70bd452384253d771a84c5b5": {
          "model_module": "@jupyter-widgets/controls",
          "model_name": "ProgressStyleModel",
          "model_module_version": "1.5.0",
          "state": {
            "_model_module": "@jupyter-widgets/controls",
            "_model_module_version": "1.5.0",
            "_model_name": "ProgressStyleModel",
            "_view_count": null,
            "_view_module": "@jupyter-widgets/base",
            "_view_module_version": "1.2.0",
            "_view_name": "StyleView",
            "bar_color": null,
            "description_width": ""
          }
        },
        "5ce3242286ac499e9a214f59a07f6bde": {
          "model_module": "@jupyter-widgets/base",
          "model_name": "LayoutModel",
          "model_module_version": "1.2.0",
          "state": {
            "_model_module": "@jupyter-widgets/base",
            "_model_module_version": "1.2.0",
            "_model_name": "LayoutModel",
            "_view_count": null,
            "_view_module": "@jupyter-widgets/base",
            "_view_module_version": "1.2.0",
            "_view_name": "LayoutView",
            "align_content": null,
            "align_items": null,
            "align_self": null,
            "border": null,
            "bottom": null,
            "display": null,
            "flex": null,
            "flex_flow": null,
            "grid_area": null,
            "grid_auto_columns": null,
            "grid_auto_flow": null,
            "grid_auto_rows": null,
            "grid_column": null,
            "grid_gap": null,
            "grid_row": null,
            "grid_template_areas": null,
            "grid_template_columns": null,
            "grid_template_rows": null,
            "height": null,
            "justify_content": null,
            "justify_items": null,
            "left": null,
            "margin": null,
            "max_height": null,
            "max_width": null,
            "min_height": null,
            "min_width": null,
            "object_fit": null,
            "object_position": null,
            "order": null,
            "overflow": null,
            "overflow_x": null,
            "overflow_y": null,
            "padding": null,
            "right": null,
            "top": null,
            "visibility": null,
            "width": null
          }
        },
        "250ca3dd383e4e09b8ddc4a08cd8b43c": {
          "model_module": "@jupyter-widgets/controls",
          "model_name": "DescriptionStyleModel",
          "model_module_version": "1.5.0",
          "state": {
            "_model_module": "@jupyter-widgets/controls",
            "_model_module_version": "1.5.0",
            "_model_name": "DescriptionStyleModel",
            "_view_count": null,
            "_view_module": "@jupyter-widgets/base",
            "_view_module_version": "1.2.0",
            "_view_name": "StyleView",
            "description_width": ""
          }
        },
        "6990b2e28ab0438e81fc2e8d2cb6feec": {
          "model_module": "@jupyter-widgets/controls",
          "model_name": "HBoxModel",
          "model_module_version": "1.5.0",
          "state": {
            "_dom_classes": [],
            "_model_module": "@jupyter-widgets/controls",
            "_model_module_version": "1.5.0",
            "_model_name": "HBoxModel",
            "_view_count": null,
            "_view_module": "@jupyter-widgets/controls",
            "_view_module_version": "1.5.0",
            "_view_name": "HBoxView",
            "box_style": "",
            "children": [
              "IPY_MODEL_d09a01672f714028ae725b55312befd2",
              "IPY_MODEL_3712a549ff2c4764b5623fa1c3cc517e",
              "IPY_MODEL_46630c43b7e54acf957d749980efb004"
            ],
            "layout": "IPY_MODEL_77c528a8ea41446683a1756c774ba4f9"
          }
        },
        "d09a01672f714028ae725b55312befd2": {
          "model_module": "@jupyter-widgets/controls",
          "model_name": "HTMLModel",
          "model_module_version": "1.5.0",
          "state": {
            "_dom_classes": [],
            "_model_module": "@jupyter-widgets/controls",
            "_model_module_version": "1.5.0",
            "_model_name": "HTMLModel",
            "_view_count": null,
            "_view_module": "@jupyter-widgets/controls",
            "_view_module_version": "1.5.0",
            "_view_name": "HTMLView",
            "description": "",
            "description_tooltip": null,
            "layout": "IPY_MODEL_62d46ca4031b4b09a59883bee119ef69",
            "placeholder": "​",
            "style": "IPY_MODEL_80fbc25949144ac6809ff89a4dbca2db",
            "value": "Downloading: 100%"
          }
        },
        "3712a549ff2c4764b5623fa1c3cc517e": {
          "model_module": "@jupyter-widgets/controls",
          "model_name": "FloatProgressModel",
          "model_module_version": "1.5.0",
          "state": {
            "_dom_classes": [],
            "_model_module": "@jupyter-widgets/controls",
            "_model_module_version": "1.5.0",
            "_model_name": "FloatProgressModel",
            "_view_count": null,
            "_view_module": "@jupyter-widgets/controls",
            "_view_module_version": "1.5.0",
            "_view_name": "ProgressView",
            "bar_style": "success",
            "description": "",
            "description_tooltip": null,
            "layout": "IPY_MODEL_a8c1032c6cb74eae91e5b81a537c9d2f",
            "max": 456318,
            "min": 0,
            "orientation": "horizontal",
            "style": "IPY_MODEL_1f84f08fbcf74a839fba5ce804066ea5",
            "value": 456318
          }
        },
        "46630c43b7e54acf957d749980efb004": {
          "model_module": "@jupyter-widgets/controls",
          "model_name": "HTMLModel",
          "model_module_version": "1.5.0",
          "state": {
            "_dom_classes": [],
            "_model_module": "@jupyter-widgets/controls",
            "_model_module_version": "1.5.0",
            "_model_name": "HTMLModel",
            "_view_count": null,
            "_view_module": "@jupyter-widgets/controls",
            "_view_module_version": "1.5.0",
            "_view_name": "HTMLView",
            "description": "",
            "description_tooltip": null,
            "layout": "IPY_MODEL_68278b63be524058a39d45581a41b3b8",
            "placeholder": "​",
            "style": "IPY_MODEL_e2d0d0557b0c4c22a14cab6dbb4c8017",
            "value": " 456k/456k [00:01&lt;00:00, 504kB/s]"
          }
        },
        "77c528a8ea41446683a1756c774ba4f9": {
          "model_module": "@jupyter-widgets/base",
          "model_name": "LayoutModel",
          "model_module_version": "1.2.0",
          "state": {
            "_model_module": "@jupyter-widgets/base",
            "_model_module_version": "1.2.0",
            "_model_name": "LayoutModel",
            "_view_count": null,
            "_view_module": "@jupyter-widgets/base",
            "_view_module_version": "1.2.0",
            "_view_name": "LayoutView",
            "align_content": null,
            "align_items": null,
            "align_self": null,
            "border": null,
            "bottom": null,
            "display": null,
            "flex": null,
            "flex_flow": null,
            "grid_area": null,
            "grid_auto_columns": null,
            "grid_auto_flow": null,
            "grid_auto_rows": null,
            "grid_column": null,
            "grid_gap": null,
            "grid_row": null,
            "grid_template_areas": null,
            "grid_template_columns": null,
            "grid_template_rows": null,
            "height": null,
            "justify_content": null,
            "justify_items": null,
            "left": null,
            "margin": null,
            "max_height": null,
            "max_width": null,
            "min_height": null,
            "min_width": null,
            "object_fit": null,
            "object_position": null,
            "order": null,
            "overflow": null,
            "overflow_x": null,
            "overflow_y": null,
            "padding": null,
            "right": null,
            "top": null,
            "visibility": null,
            "width": null
          }
        },
        "62d46ca4031b4b09a59883bee119ef69": {
          "model_module": "@jupyter-widgets/base",
          "model_name": "LayoutModel",
          "model_module_version": "1.2.0",
          "state": {
            "_model_module": "@jupyter-widgets/base",
            "_model_module_version": "1.2.0",
            "_model_name": "LayoutModel",
            "_view_count": null,
            "_view_module": "@jupyter-widgets/base",
            "_view_module_version": "1.2.0",
            "_view_name": "LayoutView",
            "align_content": null,
            "align_items": null,
            "align_self": null,
            "border": null,
            "bottom": null,
            "display": null,
            "flex": null,
            "flex_flow": null,
            "grid_area": null,
            "grid_auto_columns": null,
            "grid_auto_flow": null,
            "grid_auto_rows": null,
            "grid_column": null,
            "grid_gap": null,
            "grid_row": null,
            "grid_template_areas": null,
            "grid_template_columns": null,
            "grid_template_rows": null,
            "height": null,
            "justify_content": null,
            "justify_items": null,
            "left": null,
            "margin": null,
            "max_height": null,
            "max_width": null,
            "min_height": null,
            "min_width": null,
            "object_fit": null,
            "object_position": null,
            "order": null,
            "overflow": null,
            "overflow_x": null,
            "overflow_y": null,
            "padding": null,
            "right": null,
            "top": null,
            "visibility": null,
            "width": null
          }
        },
        "80fbc25949144ac6809ff89a4dbca2db": {
          "model_module": "@jupyter-widgets/controls",
          "model_name": "DescriptionStyleModel",
          "model_module_version": "1.5.0",
          "state": {
            "_model_module": "@jupyter-widgets/controls",
            "_model_module_version": "1.5.0",
            "_model_name": "DescriptionStyleModel",
            "_view_count": null,
            "_view_module": "@jupyter-widgets/base",
            "_view_module_version": "1.2.0",
            "_view_name": "StyleView",
            "description_width": ""
          }
        },
        "a8c1032c6cb74eae91e5b81a537c9d2f": {
          "model_module": "@jupyter-widgets/base",
          "model_name": "LayoutModel",
          "model_module_version": "1.2.0",
          "state": {
            "_model_module": "@jupyter-widgets/base",
            "_model_module_version": "1.2.0",
            "_model_name": "LayoutModel",
            "_view_count": null,
            "_view_module": "@jupyter-widgets/base",
            "_view_module_version": "1.2.0",
            "_view_name": "LayoutView",
            "align_content": null,
            "align_items": null,
            "align_self": null,
            "border": null,
            "bottom": null,
            "display": null,
            "flex": null,
            "flex_flow": null,
            "grid_area": null,
            "grid_auto_columns": null,
            "grid_auto_flow": null,
            "grid_auto_rows": null,
            "grid_column": null,
            "grid_gap": null,
            "grid_row": null,
            "grid_template_areas": null,
            "grid_template_columns": null,
            "grid_template_rows": null,
            "height": null,
            "justify_content": null,
            "justify_items": null,
            "left": null,
            "margin": null,
            "max_height": null,
            "max_width": null,
            "min_height": null,
            "min_width": null,
            "object_fit": null,
            "object_position": null,
            "order": null,
            "overflow": null,
            "overflow_x": null,
            "overflow_y": null,
            "padding": null,
            "right": null,
            "top": null,
            "visibility": null,
            "width": null
          }
        },
        "1f84f08fbcf74a839fba5ce804066ea5": {
          "model_module": "@jupyter-widgets/controls",
          "model_name": "ProgressStyleModel",
          "model_module_version": "1.5.0",
          "state": {
            "_model_module": "@jupyter-widgets/controls",
            "_model_module_version": "1.5.0",
            "_model_name": "ProgressStyleModel",
            "_view_count": null,
            "_view_module": "@jupyter-widgets/base",
            "_view_module_version": "1.2.0",
            "_view_name": "StyleView",
            "bar_color": null,
            "description_width": ""
          }
        },
        "68278b63be524058a39d45581a41b3b8": {
          "model_module": "@jupyter-widgets/base",
          "model_name": "LayoutModel",
          "model_module_version": "1.2.0",
          "state": {
            "_model_module": "@jupyter-widgets/base",
            "_model_module_version": "1.2.0",
            "_model_name": "LayoutModel",
            "_view_count": null,
            "_view_module": "@jupyter-widgets/base",
            "_view_module_version": "1.2.0",
            "_view_name": "LayoutView",
            "align_content": null,
            "align_items": null,
            "align_self": null,
            "border": null,
            "bottom": null,
            "display": null,
            "flex": null,
            "flex_flow": null,
            "grid_area": null,
            "grid_auto_columns": null,
            "grid_auto_flow": null,
            "grid_auto_rows": null,
            "grid_column": null,
            "grid_gap": null,
            "grid_row": null,
            "grid_template_areas": null,
            "grid_template_columns": null,
            "grid_template_rows": null,
            "height": null,
            "justify_content": null,
            "justify_items": null,
            "left": null,
            "margin": null,
            "max_height": null,
            "max_width": null,
            "min_height": null,
            "min_width": null,
            "object_fit": null,
            "object_position": null,
            "order": null,
            "overflow": null,
            "overflow_x": null,
            "overflow_y": null,
            "padding": null,
            "right": null,
            "top": null,
            "visibility": null,
            "width": null
          }
        },
        "e2d0d0557b0c4c22a14cab6dbb4c8017": {
          "model_module": "@jupyter-widgets/controls",
          "model_name": "DescriptionStyleModel",
          "model_module_version": "1.5.0",
          "state": {
            "_model_module": "@jupyter-widgets/controls",
            "_model_module_version": "1.5.0",
            "_model_name": "DescriptionStyleModel",
            "_view_count": null,
            "_view_module": "@jupyter-widgets/base",
            "_view_module_version": "1.2.0",
            "_view_name": "StyleView",
            "description_width": ""
          }
        },
        "56e86376824d4a0f9e3bc4eba70d1580": {
          "model_module": "@jupyter-widgets/controls",
          "model_name": "HBoxModel",
          "model_module_version": "1.5.0",
          "state": {
            "_dom_classes": [],
            "_model_module": "@jupyter-widgets/controls",
            "_model_module_version": "1.5.0",
            "_model_name": "HBoxModel",
            "_view_count": null,
            "_view_module": "@jupyter-widgets/controls",
            "_view_module_version": "1.5.0",
            "_view_name": "HBoxView",
            "box_style": "",
            "children": [
              "IPY_MODEL_777f3510e7d94c339cac11acfb479e7a",
              "IPY_MODEL_45fca1e71dd74464b151087a43e29134",
              "IPY_MODEL_512a0ddc90d14e33b86ba8abbd829a9e"
            ],
            "layout": "IPY_MODEL_0bef20e64639492fbbbe688c4c40c0ef"
          }
        },
        "777f3510e7d94c339cac11acfb479e7a": {
          "model_module": "@jupyter-widgets/controls",
          "model_name": "HTMLModel",
          "model_module_version": "1.5.0",
          "state": {
            "_dom_classes": [],
            "_model_module": "@jupyter-widgets/controls",
            "_model_module_version": "1.5.0",
            "_model_name": "HTMLModel",
            "_view_count": null,
            "_view_module": "@jupyter-widgets/controls",
            "_view_module_version": "1.5.0",
            "_view_name": "HTMLView",
            "description": "",
            "description_tooltip": null,
            "layout": "IPY_MODEL_9a0ef2c474374043a2ed8cf49617dd07",
            "placeholder": "​",
            "style": "IPY_MODEL_5b359c5d9b2c4fc8912213e75243b4ca",
            "value": "Downloading: 100%"
          }
        },
        "45fca1e71dd74464b151087a43e29134": {
          "model_module": "@jupyter-widgets/controls",
          "model_name": "FloatProgressModel",
          "model_module_version": "1.5.0",
          "state": {
            "_dom_classes": [],
            "_model_module": "@jupyter-widgets/controls",
            "_model_module_version": "1.5.0",
            "_model_name": "FloatProgressModel",
            "_view_count": null,
            "_view_module": "@jupyter-widgets/controls",
            "_view_module_version": "1.5.0",
            "_view_name": "ProgressView",
            "bar_style": "success",
            "description": "",
            "description_tooltip": null,
            "layout": "IPY_MODEL_80313504e3a1431ab62d214880a081b3",
            "max": 665,
            "min": 0,
            "orientation": "horizontal",
            "style": "IPY_MODEL_25b99dd0091d4f1fa075cb22328bfbf6",
            "value": 665
          }
        },
        "512a0ddc90d14e33b86ba8abbd829a9e": {
          "model_module": "@jupyter-widgets/controls",
          "model_name": "HTMLModel",
          "model_module_version": "1.5.0",
          "state": {
            "_dom_classes": [],
            "_model_module": "@jupyter-widgets/controls",
            "_model_module_version": "1.5.0",
            "_model_name": "HTMLModel",
            "_view_count": null,
            "_view_module": "@jupyter-widgets/controls",
            "_view_module_version": "1.5.0",
            "_view_name": "HTMLView",
            "description": "",
            "description_tooltip": null,
            "layout": "IPY_MODEL_9ce466dbde624088aee8bfc62c105a59",
            "placeholder": "​",
            "style": "IPY_MODEL_5eceea84286e4b779cc31e7dbbcadff7",
            "value": " 665/665 [00:00&lt;00:00, 7.55kB/s]"
          }
        },
        "0bef20e64639492fbbbe688c4c40c0ef": {
          "model_module": "@jupyter-widgets/base",
          "model_name": "LayoutModel",
          "model_module_version": "1.2.0",
          "state": {
            "_model_module": "@jupyter-widgets/base",
            "_model_module_version": "1.2.0",
            "_model_name": "LayoutModel",
            "_view_count": null,
            "_view_module": "@jupyter-widgets/base",
            "_view_module_version": "1.2.0",
            "_view_name": "LayoutView",
            "align_content": null,
            "align_items": null,
            "align_self": null,
            "border": null,
            "bottom": null,
            "display": null,
            "flex": null,
            "flex_flow": null,
            "grid_area": null,
            "grid_auto_columns": null,
            "grid_auto_flow": null,
            "grid_auto_rows": null,
            "grid_column": null,
            "grid_gap": null,
            "grid_row": null,
            "grid_template_areas": null,
            "grid_template_columns": null,
            "grid_template_rows": null,
            "height": null,
            "justify_content": null,
            "justify_items": null,
            "left": null,
            "margin": null,
            "max_height": null,
            "max_width": null,
            "min_height": null,
            "min_width": null,
            "object_fit": null,
            "object_position": null,
            "order": null,
            "overflow": null,
            "overflow_x": null,
            "overflow_y": null,
            "padding": null,
            "right": null,
            "top": null,
            "visibility": null,
            "width": null
          }
        },
        "9a0ef2c474374043a2ed8cf49617dd07": {
          "model_module": "@jupyter-widgets/base",
          "model_name": "LayoutModel",
          "model_module_version": "1.2.0",
          "state": {
            "_model_module": "@jupyter-widgets/base",
            "_model_module_version": "1.2.0",
            "_model_name": "LayoutModel",
            "_view_count": null,
            "_view_module": "@jupyter-widgets/base",
            "_view_module_version": "1.2.0",
            "_view_name": "LayoutView",
            "align_content": null,
            "align_items": null,
            "align_self": null,
            "border": null,
            "bottom": null,
            "display": null,
            "flex": null,
            "flex_flow": null,
            "grid_area": null,
            "grid_auto_columns": null,
            "grid_auto_flow": null,
            "grid_auto_rows": null,
            "grid_column": null,
            "grid_gap": null,
            "grid_row": null,
            "grid_template_areas": null,
            "grid_template_columns": null,
            "grid_template_rows": null,
            "height": null,
            "justify_content": null,
            "justify_items": null,
            "left": null,
            "margin": null,
            "max_height": null,
            "max_width": null,
            "min_height": null,
            "min_width": null,
            "object_fit": null,
            "object_position": null,
            "order": null,
            "overflow": null,
            "overflow_x": null,
            "overflow_y": null,
            "padding": null,
            "right": null,
            "top": null,
            "visibility": null,
            "width": null
          }
        },
        "5b359c5d9b2c4fc8912213e75243b4ca": {
          "model_module": "@jupyter-widgets/controls",
          "model_name": "DescriptionStyleModel",
          "model_module_version": "1.5.0",
          "state": {
            "_model_module": "@jupyter-widgets/controls",
            "_model_module_version": "1.5.0",
            "_model_name": "DescriptionStyleModel",
            "_view_count": null,
            "_view_module": "@jupyter-widgets/base",
            "_view_module_version": "1.2.0",
            "_view_name": "StyleView",
            "description_width": ""
          }
        },
        "80313504e3a1431ab62d214880a081b3": {
          "model_module": "@jupyter-widgets/base",
          "model_name": "LayoutModel",
          "model_module_version": "1.2.0",
          "state": {
            "_model_module": "@jupyter-widgets/base",
            "_model_module_version": "1.2.0",
            "_model_name": "LayoutModel",
            "_view_count": null,
            "_view_module": "@jupyter-widgets/base",
            "_view_module_version": "1.2.0",
            "_view_name": "LayoutView",
            "align_content": null,
            "align_items": null,
            "align_self": null,
            "border": null,
            "bottom": null,
            "display": null,
            "flex": null,
            "flex_flow": null,
            "grid_area": null,
            "grid_auto_columns": null,
            "grid_auto_flow": null,
            "grid_auto_rows": null,
            "grid_column": null,
            "grid_gap": null,
            "grid_row": null,
            "grid_template_areas": null,
            "grid_template_columns": null,
            "grid_template_rows": null,
            "height": null,
            "justify_content": null,
            "justify_items": null,
            "left": null,
            "margin": null,
            "max_height": null,
            "max_width": null,
            "min_height": null,
            "min_width": null,
            "object_fit": null,
            "object_position": null,
            "order": null,
            "overflow": null,
            "overflow_x": null,
            "overflow_y": null,
            "padding": null,
            "right": null,
            "top": null,
            "visibility": null,
            "width": null
          }
        },
        "25b99dd0091d4f1fa075cb22328bfbf6": {
          "model_module": "@jupyter-widgets/controls",
          "model_name": "ProgressStyleModel",
          "model_module_version": "1.5.0",
          "state": {
            "_model_module": "@jupyter-widgets/controls",
            "_model_module_version": "1.5.0",
            "_model_name": "ProgressStyleModel",
            "_view_count": null,
            "_view_module": "@jupyter-widgets/base",
            "_view_module_version": "1.2.0",
            "_view_name": "StyleView",
            "bar_color": null,
            "description_width": ""
          }
        },
        "9ce466dbde624088aee8bfc62c105a59": {
          "model_module": "@jupyter-widgets/base",
          "model_name": "LayoutModel",
          "model_module_version": "1.2.0",
          "state": {
            "_model_module": "@jupyter-widgets/base",
            "_model_module_version": "1.2.0",
            "_model_name": "LayoutModel",
            "_view_count": null,
            "_view_module": "@jupyter-widgets/base",
            "_view_module_version": "1.2.0",
            "_view_name": "LayoutView",
            "align_content": null,
            "align_items": null,
            "align_self": null,
            "border": null,
            "bottom": null,
            "display": null,
            "flex": null,
            "flex_flow": null,
            "grid_area": null,
            "grid_auto_columns": null,
            "grid_auto_flow": null,
            "grid_auto_rows": null,
            "grid_column": null,
            "grid_gap": null,
            "grid_row": null,
            "grid_template_areas": null,
            "grid_template_columns": null,
            "grid_template_rows": null,
            "height": null,
            "justify_content": null,
            "justify_items": null,
            "left": null,
            "margin": null,
            "max_height": null,
            "max_width": null,
            "min_height": null,
            "min_width": null,
            "object_fit": null,
            "object_position": null,
            "order": null,
            "overflow": null,
            "overflow_x": null,
            "overflow_y": null,
            "padding": null,
            "right": null,
            "top": null,
            "visibility": null,
            "width": null
          }
        },
        "5eceea84286e4b779cc31e7dbbcadff7": {
          "model_module": "@jupyter-widgets/controls",
          "model_name": "DescriptionStyleModel",
          "model_module_version": "1.5.0",
          "state": {
            "_model_module": "@jupyter-widgets/controls",
            "_model_module_version": "1.5.0",
            "_model_name": "DescriptionStyleModel",
            "_view_count": null,
            "_view_module": "@jupyter-widgets/base",
            "_view_module_version": "1.2.0",
            "_view_name": "StyleView",
            "description_width": ""
          }
        },
        "9bde793dda3b4f388fb5747ce8241ff7": {
          "model_module": "@jupyter-widgets/controls",
          "model_name": "HBoxModel",
          "model_module_version": "1.5.0",
          "state": {
            "_dom_classes": [],
            "_model_module": "@jupyter-widgets/controls",
            "_model_module_version": "1.5.0",
            "_model_name": "HBoxModel",
            "_view_count": null,
            "_view_module": "@jupyter-widgets/controls",
            "_view_module_version": "1.5.0",
            "_view_name": "HBoxView",
            "box_style": "",
            "children": [
              "IPY_MODEL_3342b20dd95f4f03a0b7ee750d04f36a",
              "IPY_MODEL_5ac0ce10f2b341d5a1d240097deb7452",
              "IPY_MODEL_32fdd191feda4a44abf6c1e985f2a5dd"
            ],
            "layout": "IPY_MODEL_f03ddcca3d4c40c9b388ee6a012ecde8"
          }
        },
        "3342b20dd95f4f03a0b7ee750d04f36a": {
          "model_module": "@jupyter-widgets/controls",
          "model_name": "HTMLModel",
          "model_module_version": "1.5.0",
          "state": {
            "_dom_classes": [],
            "_model_module": "@jupyter-widgets/controls",
            "_model_module_version": "1.5.0",
            "_model_name": "HTMLModel",
            "_view_count": null,
            "_view_module": "@jupyter-widgets/controls",
            "_view_module_version": "1.5.0",
            "_view_name": "HTMLView",
            "description": "",
            "description_tooltip": null,
            "layout": "IPY_MODEL_884fe94a8a844510ab7b7e483db2ebb3",
            "placeholder": "​",
            "style": "IPY_MODEL_e0ad0b8983f14d809b034f0b0edb2572",
            "value": "Downloading: 100%"
          }
        },
        "5ac0ce10f2b341d5a1d240097deb7452": {
          "model_module": "@jupyter-widgets/controls",
          "model_name": "FloatProgressModel",
          "model_module_version": "1.5.0",
          "state": {
            "_dom_classes": [],
            "_model_module": "@jupyter-widgets/controls",
            "_model_module_version": "1.5.0",
            "_model_name": "FloatProgressModel",
            "_view_count": null,
            "_view_module": "@jupyter-widgets/controls",
            "_view_module_version": "1.5.0",
            "_view_name": "ProgressView",
            "bar_style": "success",
            "description": "",
            "description_tooltip": null,
            "layout": "IPY_MODEL_e0f74ab8f94c46e0a3e93ffd400ddf8b",
            "max": 548118077,
            "min": 0,
            "orientation": "horizontal",
            "style": "IPY_MODEL_78571665995846668ce26dcf3db2e2c6",
            "value": 548118077
          }
        },
        "32fdd191feda4a44abf6c1e985f2a5dd": {
          "model_module": "@jupyter-widgets/controls",
          "model_name": "HTMLModel",
          "model_module_version": "1.5.0",
          "state": {
            "_dom_classes": [],
            "_model_module": "@jupyter-widgets/controls",
            "_model_module_version": "1.5.0",
            "_model_name": "HTMLModel",
            "_view_count": null,
            "_view_module": "@jupyter-widgets/controls",
            "_view_module_version": "1.5.0",
            "_view_name": "HTMLView",
            "description": "",
            "description_tooltip": null,
            "layout": "IPY_MODEL_b61bd000fb2f4939bd5ba83610de1809",
            "placeholder": "​",
            "style": "IPY_MODEL_e8b2d84e9d4344d29a50646e31e6237a",
            "value": " 548M/548M [00:07&lt;00:00, 79.6MB/s]"
          }
        },
        "f03ddcca3d4c40c9b388ee6a012ecde8": {
          "model_module": "@jupyter-widgets/base",
          "model_name": "LayoutModel",
          "model_module_version": "1.2.0",
          "state": {
            "_model_module": "@jupyter-widgets/base",
            "_model_module_version": "1.2.0",
            "_model_name": "LayoutModel",
            "_view_count": null,
            "_view_module": "@jupyter-widgets/base",
            "_view_module_version": "1.2.0",
            "_view_name": "LayoutView",
            "align_content": null,
            "align_items": null,
            "align_self": null,
            "border": null,
            "bottom": null,
            "display": null,
            "flex": null,
            "flex_flow": null,
            "grid_area": null,
            "grid_auto_columns": null,
            "grid_auto_flow": null,
            "grid_auto_rows": null,
            "grid_column": null,
            "grid_gap": null,
            "grid_row": null,
            "grid_template_areas": null,
            "grid_template_columns": null,
            "grid_template_rows": null,
            "height": null,
            "justify_content": null,
            "justify_items": null,
            "left": null,
            "margin": null,
            "max_height": null,
            "max_width": null,
            "min_height": null,
            "min_width": null,
            "object_fit": null,
            "object_position": null,
            "order": null,
            "overflow": null,
            "overflow_x": null,
            "overflow_y": null,
            "padding": null,
            "right": null,
            "top": null,
            "visibility": null,
            "width": null
          }
        },
        "884fe94a8a844510ab7b7e483db2ebb3": {
          "model_module": "@jupyter-widgets/base",
          "model_name": "LayoutModel",
          "model_module_version": "1.2.0",
          "state": {
            "_model_module": "@jupyter-widgets/base",
            "_model_module_version": "1.2.0",
            "_model_name": "LayoutModel",
            "_view_count": null,
            "_view_module": "@jupyter-widgets/base",
            "_view_module_version": "1.2.0",
            "_view_name": "LayoutView",
            "align_content": null,
            "align_items": null,
            "align_self": null,
            "border": null,
            "bottom": null,
            "display": null,
            "flex": null,
            "flex_flow": null,
            "grid_area": null,
            "grid_auto_columns": null,
            "grid_auto_flow": null,
            "grid_auto_rows": null,
            "grid_column": null,
            "grid_gap": null,
            "grid_row": null,
            "grid_template_areas": null,
            "grid_template_columns": null,
            "grid_template_rows": null,
            "height": null,
            "justify_content": null,
            "justify_items": null,
            "left": null,
            "margin": null,
            "max_height": null,
            "max_width": null,
            "min_height": null,
            "min_width": null,
            "object_fit": null,
            "object_position": null,
            "order": null,
            "overflow": null,
            "overflow_x": null,
            "overflow_y": null,
            "padding": null,
            "right": null,
            "top": null,
            "visibility": null,
            "width": null
          }
        },
        "e0ad0b8983f14d809b034f0b0edb2572": {
          "model_module": "@jupyter-widgets/controls",
          "model_name": "DescriptionStyleModel",
          "model_module_version": "1.5.0",
          "state": {
            "_model_module": "@jupyter-widgets/controls",
            "_model_module_version": "1.5.0",
            "_model_name": "DescriptionStyleModel",
            "_view_count": null,
            "_view_module": "@jupyter-widgets/base",
            "_view_module_version": "1.2.0",
            "_view_name": "StyleView",
            "description_width": ""
          }
        },
        "e0f74ab8f94c46e0a3e93ffd400ddf8b": {
          "model_module": "@jupyter-widgets/base",
          "model_name": "LayoutModel",
          "model_module_version": "1.2.0",
          "state": {
            "_model_module": "@jupyter-widgets/base",
            "_model_module_version": "1.2.0",
            "_model_name": "LayoutModel",
            "_view_count": null,
            "_view_module": "@jupyter-widgets/base",
            "_view_module_version": "1.2.0",
            "_view_name": "LayoutView",
            "align_content": null,
            "align_items": null,
            "align_self": null,
            "border": null,
            "bottom": null,
            "display": null,
            "flex": null,
            "flex_flow": null,
            "grid_area": null,
            "grid_auto_columns": null,
            "grid_auto_flow": null,
            "grid_auto_rows": null,
            "grid_column": null,
            "grid_gap": null,
            "grid_row": null,
            "grid_template_areas": null,
            "grid_template_columns": null,
            "grid_template_rows": null,
            "height": null,
            "justify_content": null,
            "justify_items": null,
            "left": null,
            "margin": null,
            "max_height": null,
            "max_width": null,
            "min_height": null,
            "min_width": null,
            "object_fit": null,
            "object_position": null,
            "order": null,
            "overflow": null,
            "overflow_x": null,
            "overflow_y": null,
            "padding": null,
            "right": null,
            "top": null,
            "visibility": null,
            "width": null
          }
        },
        "78571665995846668ce26dcf3db2e2c6": {
          "model_module": "@jupyter-widgets/controls",
          "model_name": "ProgressStyleModel",
          "model_module_version": "1.5.0",
          "state": {
            "_model_module": "@jupyter-widgets/controls",
            "_model_module_version": "1.5.0",
            "_model_name": "ProgressStyleModel",
            "_view_count": null,
            "_view_module": "@jupyter-widgets/base",
            "_view_module_version": "1.2.0",
            "_view_name": "StyleView",
            "bar_color": null,
            "description_width": ""
          }
        },
        "b61bd000fb2f4939bd5ba83610de1809": {
          "model_module": "@jupyter-widgets/base",
          "model_name": "LayoutModel",
          "model_module_version": "1.2.0",
          "state": {
            "_model_module": "@jupyter-widgets/base",
            "_model_module_version": "1.2.0",
            "_model_name": "LayoutModel",
            "_view_count": null,
            "_view_module": "@jupyter-widgets/base",
            "_view_module_version": "1.2.0",
            "_view_name": "LayoutView",
            "align_content": null,
            "align_items": null,
            "align_self": null,
            "border": null,
            "bottom": null,
            "display": null,
            "flex": null,
            "flex_flow": null,
            "grid_area": null,
            "grid_auto_columns": null,
            "grid_auto_flow": null,
            "grid_auto_rows": null,
            "grid_column": null,
            "grid_gap": null,
            "grid_row": null,
            "grid_template_areas": null,
            "grid_template_columns": null,
            "grid_template_rows": null,
            "height": null,
            "justify_content": null,
            "justify_items": null,
            "left": null,
            "margin": null,
            "max_height": null,
            "max_width": null,
            "min_height": null,
            "min_width": null,
            "object_fit": null,
            "object_position": null,
            "order": null,
            "overflow": null,
            "overflow_x": null,
            "overflow_y": null,
            "padding": null,
            "right": null,
            "top": null,
            "visibility": null,
            "width": null
          }
        },
        "e8b2d84e9d4344d29a50646e31e6237a": {
          "model_module": "@jupyter-widgets/controls",
          "model_name": "DescriptionStyleModel",
          "model_module_version": "1.5.0",
          "state": {
            "_model_module": "@jupyter-widgets/controls",
            "_model_module_version": "1.5.0",
            "_model_name": "DescriptionStyleModel",
            "_view_count": null,
            "_view_module": "@jupyter-widgets/base",
            "_view_module_version": "1.2.0",
            "_view_name": "StyleView",
            "description_width": ""
          }
        }
      }
    }
  },
  "cells": [
    {
      "cell_type": "markdown",
      "source": [
        "## Imports"
      ],
      "metadata": {
        "id": "sc1J1vMKX5mF"
      }
    },
    {
      "cell_type": "code",
      "source": [
        "!pip install pyLDAvis"
      ],
      "metadata": {
        "colab": {
          "base_uri": "https://localhost:8080/"
        },
        "id": "GcJHPBK-YuH_",
        "outputId": "762c3805-710c-4b60-a09f-66d70e45654c"
      },
      "execution_count": null,
      "outputs": [
        {
          "output_type": "stream",
          "name": "stdout",
          "text": [
            "Looking in indexes: https://pypi.org/simple, https://us-python.pkg.dev/colab-wheels/public/simple/\n",
            "Collecting pyLDAvis\n",
            "  Downloading pyLDAvis-3.3.1.tar.gz (1.7 MB)\n",
            "\u001b[K     |████████████████████████████████| 1.7 MB 21.4 MB/s \n",
            "\u001b[?25h  Installing build dependencies ... \u001b[?25l\u001b[?25hdone\n",
            "  Getting requirements to build wheel ... \u001b[?25l\u001b[?25hdone\n",
            "  Installing backend dependencies ... \u001b[?25l\u001b[?25hdone\n",
            "    Preparing wheel metadata ... \u001b[?25l\u001b[?25hdone\n",
            "Requirement already satisfied: joblib in /usr/local/lib/python3.8/dist-packages (from pyLDAvis) (1.2.0)\n",
            "Requirement already satisfied: scikit-learn in /usr/local/lib/python3.8/dist-packages (from pyLDAvis) (1.0.2)\n",
            "Requirement already satisfied: pandas>=1.2.0 in /usr/local/lib/python3.8/dist-packages (from pyLDAvis) (1.3.5)\n",
            "Requirement already satisfied: scipy in /usr/local/lib/python3.8/dist-packages (from pyLDAvis) (1.7.3)\n",
            "Requirement already satisfied: jinja2 in /usr/local/lib/python3.8/dist-packages (from pyLDAvis) (2.11.3)\n",
            "Requirement already satisfied: numexpr in /usr/local/lib/python3.8/dist-packages (from pyLDAvis) (2.8.4)\n",
            "Collecting funcy\n",
            "  Downloading funcy-1.17-py2.py3-none-any.whl (33 kB)\n",
            "Collecting sklearn\n",
            "  Downloading sklearn-0.0.post1.tar.gz (3.6 kB)\n",
            "Requirement already satisfied: numpy>=1.20.0 in /usr/local/lib/python3.8/dist-packages (from pyLDAvis) (1.21.6)\n",
            "Requirement already satisfied: gensim in /usr/local/lib/python3.8/dist-packages (from pyLDAvis) (3.6.0)\n",
            "Requirement already satisfied: setuptools in /usr/local/lib/python3.8/dist-packages (from pyLDAvis) (57.4.0)\n",
            "Requirement already satisfied: future in /usr/local/lib/python3.8/dist-packages (from pyLDAvis) (0.16.0)\n",
            "Requirement already satisfied: python-dateutil>=2.7.3 in /usr/local/lib/python3.8/dist-packages (from pandas>=1.2.0->pyLDAvis) (2.8.2)\n",
            "Requirement already satisfied: pytz>=2017.3 in /usr/local/lib/python3.8/dist-packages (from pandas>=1.2.0->pyLDAvis) (2022.6)\n",
            "Requirement already satisfied: six>=1.5 in /usr/local/lib/python3.8/dist-packages (from python-dateutil>=2.7.3->pandas>=1.2.0->pyLDAvis) (1.15.0)\n",
            "Requirement already satisfied: smart-open>=1.2.1 in /usr/local/lib/python3.8/dist-packages (from gensim->pyLDAvis) (5.2.1)\n",
            "Requirement already satisfied: MarkupSafe>=0.23 in /usr/local/lib/python3.8/dist-packages (from jinja2->pyLDAvis) (2.0.1)\n",
            "Requirement already satisfied: threadpoolctl>=2.0.0 in /usr/local/lib/python3.8/dist-packages (from scikit-learn->pyLDAvis) (3.1.0)\n",
            "Building wheels for collected packages: pyLDAvis, sklearn\n",
            "  Building wheel for pyLDAvis (PEP 517) ... \u001b[?25l\u001b[?25hdone\n",
            "  Created wheel for pyLDAvis: filename=pyLDAvis-3.3.1-py2.py3-none-any.whl size=136898 sha256=68b39d14453a535957f2acacd797d3517c3e4870799707cb666afc475aa847ec\n",
            "  Stored in directory: /root/.cache/pip/wheels/90/61/ec/9dbe9efc3acf9c4e37ba70fbbcc3f3a0ebd121060aa593181a\n",
            "  Building wheel for sklearn (setup.py) ... \u001b[?25l\u001b[?25hdone\n",
            "  Created wheel for sklearn: filename=sklearn-0.0.post1-py3-none-any.whl size=2344 sha256=3e8a0d96ff4b199a98dc6e187c597e8b6e17632c087e8d8470aaaca254b39a70\n",
            "  Stored in directory: /root/.cache/pip/wheels/14/25/f7/1cc0956978ae479e75140219088deb7a36f60459df242b1a72\n",
            "Successfully built pyLDAvis sklearn\n",
            "Installing collected packages: sklearn, funcy, pyLDAvis\n",
            "Successfully installed funcy-1.17 pyLDAvis-3.3.1 sklearn-0.0.post1\n"
          ]
        }
      ]
    },
    {
      "cell_type": "code",
      "source": [
        "from google.colab import drive\n",
        "drive.mount('/content/gdrive')\n",
        "\n",
        "import pandas as pd\n",
        "import numpy as np\n",
        "import nltk\n",
        "import pickle\n",
        "import pyLDAvis.sklearn\n",
        "from collections import Counter\n",
        "from textblob import TextBlob\n",
        "from nltk.tokenize import word_tokenize\n",
        "from nltk.probability import FreqDist\n",
        "from sklearn.feature_extraction.text import CountVectorizer\n",
        "from sklearn.feature_extraction.text import TfidfVectorizer\n",
        "from sklearn.decomposition import LatentDirichletAllocation, NMF\n",
        "from wordcloud import WordCloud, ImageColorGenerator\n",
        "import matplotlib.pyplot as plt\n",
        "import seaborn as sns\n",
        "import re\n",
        "from spacy.lang.en.stop_words import STOP_WORDS\n",
        "from nltk.stem.porter import PorterStemmer\n",
        "from nltk.tokenize import word_tokenize\n",
        "porter = PorterStemmer()\n",
        "import string\n",
        "\n",
        "from textblob import TextBlob\n",
        "from os import path\n",
        "import nltk\n",
        "nltk.download('punkt')\n",
        "import pandas as pd"
      ],
      "metadata": {
        "id": "1X84GJ1Ipj1M",
        "outputId": "eac74e19-501f-4afa-d641-9593bcdae775",
        "colab": {
          "base_uri": "https://localhost:8080/"
        }
      },
      "execution_count": null,
      "outputs": [
        {
          "output_type": "stream",
          "name": "stdout",
          "text": [
            "Mounted at /content/gdrive\n"
          ]
        },
        {
          "output_type": "stream",
          "name": "stderr",
          "text": [
            "/usr/local/lib/python3.8/dist-packages/past/types/oldstr.py:5: DeprecationWarning: Using or importing the ABCs from 'collections' instead of from 'collections.abc' is deprecated since Python 3.3, and in 3.10 it will stop working\n",
            "  from collections import Iterable\n",
            "/usr/local/lib/python3.8/dist-packages/past/builtins/misc.py:4: DeprecationWarning: Using or importing the ABCs from 'collections' instead of from 'collections.abc' is deprecated since Python 3.3, and in 3.10 it will stop working\n",
            "  from collections import Mapping\n",
            "[nltk_data] Downloading package punkt to /root/nltk_data...\n",
            "[nltk_data]   Unzipping tokenizers/punkt.zip.\n"
          ]
        }
      ]
    },
    {
      "cell_type": "code",
      "source": [
        "df = pd.read_csv(\"gdrive/My Drive/Colab Notebooks/SBIC.v2.agg.trn.csv\")\n",
        "df"
      ],
      "metadata": {
        "colab": {
          "base_uri": "https://localhost:8080/",
          "height": 641
        },
        "id": "j9MaJ3U4YKiA",
        "outputId": "acaad1f6-0200-4bfe-df89-d7dce383af62"
      },
      "execution_count": null,
      "outputs": [
        {
          "output_type": "execute_result",
          "data": {
            "text/plain": [
              "       Unnamed: 0                                               post  \\\n",
              "0               0  \\n\\nBill Kristol and Ben Shaprio, two turds in...   \n",
              "1               1  \\n\\nRose\\n🌹Taylor‏ @RealRoseTaylor 6h6 hours a...   \n",
              "2               2  \\nCharlie Kirk‏\\n\\nJohnny Depp calls for death...   \n",
              "3               3  \\nDavid Knight‏ \\n\\nNotice how quickly things ...   \n",
              "4               4  \\nFinland fireball: Time-lapse video shows nig...   \n",
              "...           ...                                                ...   \n",
              "35419       35498  👉 Illegally in the country after 5 deportation...   \n",
              "35420       35500  💥Breaking💥\\nJulian Assange is the gate keeper ...   \n",
              "35421       35501  📖 2Kings 22:19  because your heart was peniten...   \n",
              "35422       35502  🚨#FAKENEWSAWARDS🚨\\n\\n🚨 who is #1 fake news ?🚨\\...   \n",
              "35423       35503  🚨BREAKING: illegal alien 5x deported on 7 felo...   \n",
              "\n",
              "       targetMinority targetCategory  \\\n",
              "0                  []             []   \n",
              "1                  []             []   \n",
              "2        [\"liberals\"]     [\"social\"]   \n",
              "3                  []             []   \n",
              "4                  []             []   \n",
              "...               ...            ...   \n",
              "35419              []             []   \n",
              "35420              []             []   \n",
              "35421              []             []   \n",
              "35422              []             []   \n",
              "35423  [\"immigrants\"]    [\"culture\"]   \n",
              "\n",
              "                                        targetStereotype  whoTarget  intentYN  \\\n",
              "0                                                     []        0.0  0.886667   \n",
              "1                                                     []        NaN  0.220000   \n",
              "2      [\"miscontrue things\", \"take things in a weird ...        1.0  1.000000   \n",
              "3                                                     []        0.0  0.110000   \n",
              "4                                                     []        NaN  0.000000   \n",
              "...                                                  ...        ...       ...   \n",
              "35419                                                 []        NaN  0.220000   \n",
              "35420                                                 []        0.0  0.000000   \n",
              "35421                                                 []        NaN  0.000000   \n",
              "35422                                                 []        0.0  0.553333   \n",
              "35423  [\"immigrants are criminals\", \"immigrants are m...        1.0  0.330000   \n",
              "\n",
              "       sexYN  offensiveYN dataSource  hasBiasedImplication  \n",
              "0        0.0     1.000000        Gab                     1  \n",
              "1        0.0     0.000000        Gab                     1  \n",
              "2        0.0     1.000000        Gab                     0  \n",
              "3        0.0     0.166667        Gab                     1  \n",
              "4        0.0     0.000000        Gab                     1  \n",
              "...      ...          ...        ...                   ...  \n",
              "35419    0.0     0.000000        Gab                     1  \n",
              "35420    0.0     0.000000        Gab                     1  \n",
              "35421    0.0     0.000000        Gab                     1  \n",
              "35422    0.0     0.500000        Gab                     1  \n",
              "35423    0.0     1.000000        Gab                     0  \n",
              "\n",
              "[35424 rows x 11 columns]"
            ],
            "text/html": [
              "\n",
              "  <div id=\"df-f979a56d-e919-4bb4-a0d8-de6fedfcae46\">\n",
              "    <div class=\"colab-df-container\">\n",
              "      <div>\n",
              "<style scoped>\n",
              "    .dataframe tbody tr th:only-of-type {\n",
              "        vertical-align: middle;\n",
              "    }\n",
              "\n",
              "    .dataframe tbody tr th {\n",
              "        vertical-align: top;\n",
              "    }\n",
              "\n",
              "    .dataframe thead th {\n",
              "        text-align: right;\n",
              "    }\n",
              "</style>\n",
              "<table border=\"1\" class=\"dataframe\">\n",
              "  <thead>\n",
              "    <tr style=\"text-align: right;\">\n",
              "      <th></th>\n",
              "      <th>Unnamed: 0</th>\n",
              "      <th>post</th>\n",
              "      <th>targetMinority</th>\n",
              "      <th>targetCategory</th>\n",
              "      <th>targetStereotype</th>\n",
              "      <th>whoTarget</th>\n",
              "      <th>intentYN</th>\n",
              "      <th>sexYN</th>\n",
              "      <th>offensiveYN</th>\n",
              "      <th>dataSource</th>\n",
              "      <th>hasBiasedImplication</th>\n",
              "    </tr>\n",
              "  </thead>\n",
              "  <tbody>\n",
              "    <tr>\n",
              "      <th>0</th>\n",
              "      <td>0</td>\n",
              "      <td>\\n\\nBill Kristol and Ben Shaprio, two turds in...</td>\n",
              "      <td>[]</td>\n",
              "      <td>[]</td>\n",
              "      <td>[]</td>\n",
              "      <td>0.0</td>\n",
              "      <td>0.886667</td>\n",
              "      <td>0.0</td>\n",
              "      <td>1.000000</td>\n",
              "      <td>Gab</td>\n",
              "      <td>1</td>\n",
              "    </tr>\n",
              "    <tr>\n",
              "      <th>1</th>\n",
              "      <td>1</td>\n",
              "      <td>\\n\\nRose\\n🌹Taylor‏ @RealRoseTaylor 6h6 hours a...</td>\n",
              "      <td>[]</td>\n",
              "      <td>[]</td>\n",
              "      <td>[]</td>\n",
              "      <td>NaN</td>\n",
              "      <td>0.220000</td>\n",
              "      <td>0.0</td>\n",
              "      <td>0.000000</td>\n",
              "      <td>Gab</td>\n",
              "      <td>1</td>\n",
              "    </tr>\n",
              "    <tr>\n",
              "      <th>2</th>\n",
              "      <td>2</td>\n",
              "      <td>\\nCharlie Kirk‏\\n\\nJohnny Depp calls for death...</td>\n",
              "      <td>[\"liberals\"]</td>\n",
              "      <td>[\"social\"]</td>\n",
              "      <td>[\"miscontrue things\", \"take things in a weird ...</td>\n",
              "      <td>1.0</td>\n",
              "      <td>1.000000</td>\n",
              "      <td>0.0</td>\n",
              "      <td>1.000000</td>\n",
              "      <td>Gab</td>\n",
              "      <td>0</td>\n",
              "    </tr>\n",
              "    <tr>\n",
              "      <th>3</th>\n",
              "      <td>3</td>\n",
              "      <td>\\nDavid Knight‏ \\n\\nNotice how quickly things ...</td>\n",
              "      <td>[]</td>\n",
              "      <td>[]</td>\n",
              "      <td>[]</td>\n",
              "      <td>0.0</td>\n",
              "      <td>0.110000</td>\n",
              "      <td>0.0</td>\n",
              "      <td>0.166667</td>\n",
              "      <td>Gab</td>\n",
              "      <td>1</td>\n",
              "    </tr>\n",
              "    <tr>\n",
              "      <th>4</th>\n",
              "      <td>4</td>\n",
              "      <td>\\nFinland fireball: Time-lapse video shows nig...</td>\n",
              "      <td>[]</td>\n",
              "      <td>[]</td>\n",
              "      <td>[]</td>\n",
              "      <td>NaN</td>\n",
              "      <td>0.000000</td>\n",
              "      <td>0.0</td>\n",
              "      <td>0.000000</td>\n",
              "      <td>Gab</td>\n",
              "      <td>1</td>\n",
              "    </tr>\n",
              "    <tr>\n",
              "      <th>...</th>\n",
              "      <td>...</td>\n",
              "      <td>...</td>\n",
              "      <td>...</td>\n",
              "      <td>...</td>\n",
              "      <td>...</td>\n",
              "      <td>...</td>\n",
              "      <td>...</td>\n",
              "      <td>...</td>\n",
              "      <td>...</td>\n",
              "      <td>...</td>\n",
              "      <td>...</td>\n",
              "    </tr>\n",
              "    <tr>\n",
              "      <th>35419</th>\n",
              "      <td>35498</td>\n",
              "      <td>👉 Illegally in the country after 5 deportation...</td>\n",
              "      <td>[]</td>\n",
              "      <td>[]</td>\n",
              "      <td>[]</td>\n",
              "      <td>NaN</td>\n",
              "      <td>0.220000</td>\n",
              "      <td>0.0</td>\n",
              "      <td>0.000000</td>\n",
              "      <td>Gab</td>\n",
              "      <td>1</td>\n",
              "    </tr>\n",
              "    <tr>\n",
              "      <th>35420</th>\n",
              "      <td>35500</td>\n",
              "      <td>💥Breaking💥\\nJulian Assange is the gate keeper ...</td>\n",
              "      <td>[]</td>\n",
              "      <td>[]</td>\n",
              "      <td>[]</td>\n",
              "      <td>0.0</td>\n",
              "      <td>0.000000</td>\n",
              "      <td>0.0</td>\n",
              "      <td>0.000000</td>\n",
              "      <td>Gab</td>\n",
              "      <td>1</td>\n",
              "    </tr>\n",
              "    <tr>\n",
              "      <th>35421</th>\n",
              "      <td>35501</td>\n",
              "      <td>📖 2Kings 22:19  because your heart was peniten...</td>\n",
              "      <td>[]</td>\n",
              "      <td>[]</td>\n",
              "      <td>[]</td>\n",
              "      <td>NaN</td>\n",
              "      <td>0.000000</td>\n",
              "      <td>0.0</td>\n",
              "      <td>0.000000</td>\n",
              "      <td>Gab</td>\n",
              "      <td>1</td>\n",
              "    </tr>\n",
              "    <tr>\n",
              "      <th>35422</th>\n",
              "      <td>35502</td>\n",
              "      <td>🚨#FAKENEWSAWARDS🚨\\n\\n🚨 who is #1 fake news ?🚨\\...</td>\n",
              "      <td>[]</td>\n",
              "      <td>[]</td>\n",
              "      <td>[]</td>\n",
              "      <td>0.0</td>\n",
              "      <td>0.553333</td>\n",
              "      <td>0.0</td>\n",
              "      <td>0.500000</td>\n",
              "      <td>Gab</td>\n",
              "      <td>1</td>\n",
              "    </tr>\n",
              "    <tr>\n",
              "      <th>35423</th>\n",
              "      <td>35503</td>\n",
              "      <td>🚨BREAKING: illegal alien 5x deported on 7 felo...</td>\n",
              "      <td>[\"immigrants\"]</td>\n",
              "      <td>[\"culture\"]</td>\n",
              "      <td>[\"immigrants are criminals\", \"immigrants are m...</td>\n",
              "      <td>1.0</td>\n",
              "      <td>0.330000</td>\n",
              "      <td>0.0</td>\n",
              "      <td>1.000000</td>\n",
              "      <td>Gab</td>\n",
              "      <td>0</td>\n",
              "    </tr>\n",
              "  </tbody>\n",
              "</table>\n",
              "<p>35424 rows × 11 columns</p>\n",
              "</div>\n",
              "      <button class=\"colab-df-convert\" onclick=\"convertToInteractive('df-f979a56d-e919-4bb4-a0d8-de6fedfcae46')\"\n",
              "              title=\"Convert this dataframe to an interactive table.\"\n",
              "              style=\"display:none;\">\n",
              "        \n",
              "  <svg xmlns=\"http://www.w3.org/2000/svg\" height=\"24px\"viewBox=\"0 0 24 24\"\n",
              "       width=\"24px\">\n",
              "    <path d=\"M0 0h24v24H0V0z\" fill=\"none\"/>\n",
              "    <path d=\"M18.56 5.44l.94 2.06.94-2.06 2.06-.94-2.06-.94-.94-2.06-.94 2.06-2.06.94zm-11 1L8.5 8.5l.94-2.06 2.06-.94-2.06-.94L8.5 2.5l-.94 2.06-2.06.94zm10 10l.94 2.06.94-2.06 2.06-.94-2.06-.94-.94-2.06-.94 2.06-2.06.94z\"/><path d=\"M17.41 7.96l-1.37-1.37c-.4-.4-.92-.59-1.43-.59-.52 0-1.04.2-1.43.59L10.3 9.45l-7.72 7.72c-.78.78-.78 2.05 0 2.83L4 21.41c.39.39.9.59 1.41.59.51 0 1.02-.2 1.41-.59l7.78-7.78 2.81-2.81c.8-.78.8-2.07 0-2.86zM5.41 20L4 18.59l7.72-7.72 1.47 1.35L5.41 20z\"/>\n",
              "  </svg>\n",
              "      </button>\n",
              "      \n",
              "  <style>\n",
              "    .colab-df-container {\n",
              "      display:flex;\n",
              "      flex-wrap:wrap;\n",
              "      gap: 12px;\n",
              "    }\n",
              "\n",
              "    .colab-df-convert {\n",
              "      background-color: #E8F0FE;\n",
              "      border: none;\n",
              "      border-radius: 50%;\n",
              "      cursor: pointer;\n",
              "      display: none;\n",
              "      fill: #1967D2;\n",
              "      height: 32px;\n",
              "      padding: 0 0 0 0;\n",
              "      width: 32px;\n",
              "    }\n",
              "\n",
              "    .colab-df-convert:hover {\n",
              "      background-color: #E2EBFA;\n",
              "      box-shadow: 0px 1px 2px rgba(60, 64, 67, 0.3), 0px 1px 3px 1px rgba(60, 64, 67, 0.15);\n",
              "      fill: #174EA6;\n",
              "    }\n",
              "\n",
              "    [theme=dark] .colab-df-convert {\n",
              "      background-color: #3B4455;\n",
              "      fill: #D2E3FC;\n",
              "    }\n",
              "\n",
              "    [theme=dark] .colab-df-convert:hover {\n",
              "      background-color: #434B5C;\n",
              "      box-shadow: 0px 1px 3px 1px rgba(0, 0, 0, 0.15);\n",
              "      filter: drop-shadow(0px 1px 2px rgba(0, 0, 0, 0.3));\n",
              "      fill: #FFFFFF;\n",
              "    }\n",
              "  </style>\n",
              "\n",
              "      <script>\n",
              "        const buttonEl =\n",
              "          document.querySelector('#df-f979a56d-e919-4bb4-a0d8-de6fedfcae46 button.colab-df-convert');\n",
              "        buttonEl.style.display =\n",
              "          google.colab.kernel.accessAllowed ? 'block' : 'none';\n",
              "\n",
              "        async function convertToInteractive(key) {\n",
              "          const element = document.querySelector('#df-f979a56d-e919-4bb4-a0d8-de6fedfcae46');\n",
              "          const dataTable =\n",
              "            await google.colab.kernel.invokeFunction('convertToInteractive',\n",
              "                                                     [key], {});\n",
              "          if (!dataTable) return;\n",
              "\n",
              "          const docLinkHtml = 'Like what you see? Visit the ' +\n",
              "            '<a target=\"_blank\" href=https://colab.research.google.com/notebooks/data_table.ipynb>data table notebook</a>'\n",
              "            + ' to learn more about interactive tables.';\n",
              "          element.innerHTML = '';\n",
              "          dataTable['output_type'] = 'display_data';\n",
              "          await google.colab.output.renderOutput(dataTable, element);\n",
              "          const docLink = document.createElement('div');\n",
              "          docLink.innerHTML = docLinkHtml;\n",
              "          element.appendChild(docLink);\n",
              "        }\n",
              "      </script>\n",
              "    </div>\n",
              "  </div>\n",
              "  "
            ]
          },
          "metadata": {},
          "execution_count": 3
        }
      ]
    },
    {
      "cell_type": "markdown",
      "source": [
        "## Pre-Processing"
      ],
      "metadata": {
        "id": "Q9TqhXDEZYXp"
      }
    },
    {
      "cell_type": "markdown",
      "source": [
        "#### Check for null values"
      ],
      "metadata": {
        "id": "pVMZ3gPZZs3G"
      }
    },
    {
      "cell_type": "code",
      "source": [
        "df['post'].isnull().sum()"
      ],
      "metadata": {
        "colab": {
          "base_uri": "https://localhost:8080/"
        },
        "id": "uuhbMHUWZlIB",
        "outputId": "3123d29b-3743-4a1b-f1ba-161c27dd350a"
      },
      "execution_count": null,
      "outputs": [
        {
          "output_type": "execute_result",
          "data": {
            "text/plain": [
              "0"
            ]
          },
          "metadata": {},
          "execution_count": 4
        }
      ]
    },
    {
      "cell_type": "code",
      "source": [
        "# remove punctations\n",
        "df['p']=df['post'].str.replace('\"', '')\n",
        "df['p'] = df['p'].apply(lambda elem: re.sub(r\"(@[A-Za-z0-9]+)|([^0-9A-Za-z \\t])|(\\w+:\\/\\/\\S+)|^rt|http.+?\", \"\", elem))\n",
        "df['p'] = df['p'].apply(lambda elem: re.sub(r\"\\d+\", \"\", elem))"
      ],
      "metadata": {
        "id": "SUR2zidtv-q2"
      },
      "execution_count": null,
      "outputs": []
    },
    {
      "cell_type": "markdown",
      "source": [
        "#### Clean, Remove Stop Words, Punctuations, lemmatize"
      ],
      "metadata": {
        "id": "2rRMjISlaH89"
      }
    },
    {
      "cell_type": "code",
      "source": [
        "def preprocess_txt(data):\n",
        "\n",
        "  data = word_tokenize(data)\n",
        "  data = [x.lower() for x in data]\n",
        "  data = [re.sub('[0-9]+', '', x) for x in data]\n",
        "  data = [porter.stem(word) for word in data]\n",
        "  data = [w for w in data if not w in STOP_WORDS]\n",
        "  data = list(filter(lambda token: token not in (str.maketrans('', '', string.punctuation)), data))\n",
        "  data = [x for x in data if len(x) > 1]\n",
        "  data = [x for x in data if ' ' not in x]\n",
        "\n",
        "  return data"
      ],
      "metadata": {
        "id": "huhh3LFxZmwR"
      },
      "execution_count": null,
      "outputs": []
    },
    {
      "cell_type": "code",
      "source": [
        "df['clean_post'] = df['p'].apply(preprocess_txt)"
      ],
      "metadata": {
        "id": "4kL-Q_fGanFK"
      },
      "execution_count": null,
      "outputs": []
    },
    {
      "cell_type": "markdown",
      "source": [
        "## EDA"
      ],
      "metadata": {
        "id": "RblyP9KsbrrD"
      }
    },
    {
      "cell_type": "markdown",
      "source": [
        "#### Sentiment polarity check with TextBlob\n",
        "\n",
        "#### When a sentence is passed into Textblob it gives two outputs, which are polarity and subjectivity. Polarity is the output that lies between [-1,1], where -1 refers to negative sentiment and +1 refers to positive sentiment."
      ],
      "metadata": {
        "id": "nCUj99z6dcHb"
      }
    },
    {
      "cell_type": "code",
      "source": [
        "df['lemma_clean_str'] = [' '.join(map(str,l)) for l in df['clean_post']]\n",
        "df['sentiment'] = df['lemma_clean_str'].apply(lambda x: TextBlob(x).sentiment.polarity)"
      ],
      "metadata": {
        "id": "hPn60soMcFet"
      },
      "execution_count": null,
      "outputs": []
    },
    {
      "cell_type": "code",
      "source": [
        "plt.figure(figsize=(6,6))\n",
        "plt.margins(0.05)\n",
        "plt.xlabel('Sentiment Polarity', fontsize =15, labelpad=20)\n",
        "plt.ylabel('Frequency', fontsize =15, labelpad=20)\n",
        "plt.hist(df['sentiment'], bins=10)\n",
        "plt.title('Sentiment Polarity Distribution', fontsize =15, pad=20)\n",
        "plt.savefig('gdrive/My Drive/Colab Notebooks/1.png')\n",
        "plt.show()\n"
      ],
      "metadata": {
        "colab": {
          "base_uri": "https://localhost:8080/",
          "height": 441
        },
        "id": "JOWFBsxkcWD_",
        "outputId": "bd1359f1-a765-4050-8d08-694598c40102"
      },
      "execution_count": null,
      "outputs": [
        {
          "output_type": "display_data",
          "data": {
            "text/plain": [
              "<Figure size 432x432 with 1 Axes>"
            ],
            "image/png": "[encoded data removed]"
          },
          "metadata": {
            "needs_background": "light"
          }
        }
      ]
    },
    {
      "cell_type": "markdown",
      "source": [
        "#### Findings_1: \n",
        "\n",
        "* Graph shows a combination of neatives, positives and neutral posts wherein most of them are netural and negatives"
      ],
      "metadata": {
        "id": "b57CJQ79eirm"
      }
    },
    {
      "cell_type": "code",
      "source": [
        "plt.figure(figsize=(6,6))\n",
        "x_bias = df.hasBiasedImplication.value_counts()\n",
        "y_bias = x_bias.sort_index()\n",
        "sns.barplot(x_bias.index, x_bias.values, alpha=0.8)\n",
        "plt.title(\"HasBias Distribution\", fontsize =15, pad=20)\n",
        "plt.ylabel('Frequency', fontsize =15, labelpad=20)\n",
        "plt.xlabel('HasBias=0, NoBias=1', fontsize =15, labelpad=20)\n",
        "plt.show()"
      ],
      "metadata": {
        "colab": {
          "base_uri": "https://localhost:8080/",
          "height": 496
        },
        "id": "DWgOXi1Je_66",
        "outputId": "11ed5d2b-a550-462d-a4a7-5289d8dee796"
      },
      "execution_count": null,
      "outputs": [
        {
          "output_type": "stream",
          "name": "stderr",
          "text": [
            "/usr/local/lib/python3.8/dist-packages/seaborn/_decorators.py:36: FutureWarning: Pass the following variables as keyword args: x, y. From version 0.12, the only valid positional argument will be `data`, and passing other arguments without an explicit keyword will result in an error or misinterpretation.\n",
            "  warnings.warn(\n"
          ]
        },
        {
          "output_type": "display_data",
          "data": {
            "text/plain": [
              "<Figure size 432x432 with 1 Axes>"
            ],
            "image/png": "[encoded data removed]"
          },
          "metadata": {
            "needs_background": "light"
          }
        }
      ]
    },
    {
      "cell_type": "markdown",
      "source": [
        "#### Findings_2:\n",
        "\n",
        "* Graph Shows that there are almost ~12-13k posts are Offensive and has bias in them"
      ],
      "metadata": {
        "id": "Ro5iN7ZMgAz3"
      }
    },
    {
      "cell_type": "code",
      "source": [
        "# count the number of words in each post\n",
        "df['words_cnt'] = df['lemma_clean_str'].apply(lambda x: len(str(x).split()))\n",
        "\n",
        "word_avg = df.groupby('hasBiasedImplication')['words_cnt'].mean().plot(kind='bar')\n",
        "plt.xlabel('Social Bias', fontsize =15, labelpad=20)\n",
        "plt.ylabel('Count of Words in each post', fontsize =15, labelpad=20)\n",
        "plt.title('Average Number of Words per Post Distribution', fontsize =15, pad=20)\n",
        "plt.show()"
      ],
      "metadata": {
        "colab": {
          "base_uri": "https://localhost:8080/",
          "height": 329
        },
        "id": "Xn9nbabfgPU8",
        "outputId": "34731aa4-ae3e-4490-b799-f14cab3e5ba2"
      },
      "execution_count": null,
      "outputs": [
        {
          "output_type": "display_data",
          "data": {
            "text/plain": [
              "<Figure size 432x288 with 1 Axes>"
            ],
            "image/png": "[encoded data removed]"
          },
          "metadata": {
            "needs_background": "light"
          }
        }
      ]
    },
    {
      "cell_type": "markdown",
      "source": [
        "#### Findings_3:\n",
        "\n",
        "* Graph shows that most of post has 10-11 words"
      ],
      "metadata": {
        "id": "naUT5xEliEmQ"
      }
    },
    {
      "cell_type": "code",
      "source": [
        "import itertools\n",
        "\n",
        "\n",
        "word = df['lemma_clean_str']\n",
        "words = []\n",
        "my_word_arr = []\n",
        "a = []\n",
        "for wordlist in word:\n",
        "    my_word_arr.append(wordlist.split(' '))\n",
        "\n",
        "for arr in my_word_arr:\n",
        "  ab = itertools.chain(arr)\n",
        "  a += ab\n",
        "\n",
        "mostcmn = FreqDist(a).most_common(100)\n",
        "wordcloud = WordCloud(width=500, height=500, background_color='white').generate(str(mostcmn))\n",
        "fig = plt.figure(figsize=(5,5), facecolor='white')\n",
        "plt.imshow(wordcloud, interpolation=\"bilinear\")\n",
        "plt.axis('off')\n",
        "plt.title('Top 100 Most Common Words', fontsize=20)\n",
        "plt.tight_layout(pad=0)\n",
        "plt.show()"
      ],
      "metadata": {
        "id": "Ao3ho_Z7iN69",
        "colab": {
          "base_uri": "https://localhost:8080/",
          "height": 391
        },
        "outputId": "74cf3a0d-16cc-488a-b898-954c5dfc5fdb"
      },
      "execution_count": null,
      "outputs": [
        {
          "output_type": "display_data",
          "data": {
            "text/plain": [
              "<Figure size 360x360 with 1 Axes>"
            ],
            "image/png": "[encoded data removed]"
          },
          "metadata": {}
        }
      ]
    },
    {
      "cell_type": "markdown",
      "source": [
        "#### Findings_4:\n",
        "\n",
        "* Most used words are like, fuck, black, know, hate in our database"
      ],
      "metadata": {
        "id": "0d1H0OScrQxZ"
      }
    },
    {
      "cell_type": "code",
      "source": [
        "Not_Offensive = df[df['offensiveYN'] == 0]\n",
        "Offensive = df[df['offensiveYN'] == 1]\n",
        "\n",
        "word = Offensive['lemma_clean_str']\n",
        "words = []\n",
        "my_word_arr = []\n",
        "a = []\n",
        "for wordlist in word:\n",
        "    my_word_arr.append(wordlist.split(' '))\n",
        "\n",
        "for arr in my_word_arr:\n",
        "  ab = itertools.chain(arr)\n",
        "  a += ab\n",
        "\n",
        "mostcmn = FreqDist(a).most_common(50)\n",
        "wordcloud = WordCloud(width=500, height=500, background_color='white').generate(str(mostcmn))\n",
        "fig = plt.figure(figsize=(5,5), facecolor='white')\n",
        "plt.imshow(wordcloud, interpolation=\"bilinear\")\n",
        "plt.axis('off')\n",
        "plt.title('Top 50 Common Offensive Words', fontsize=20)\n",
        "plt.tight_layout(pad=0)\n",
        "plt.show()"
      ],
      "metadata": {
        "colab": {
          "base_uri": "https://localhost:8080/",
          "height": 358
        },
        "id": "DQzTwuQbDupI",
        "outputId": "4128fbf1-cae5-4ffb-fecc-9d6d6069f340"
      },
      "execution_count": null,
      "outputs": [
        {
          "output_type": "display_data",
          "data": {
            "text/plain": [
              "<Figure size 360x360 with 1 Axes>"
            ],
            "image/png": "[encoded data removed]"
          },
          "metadata": {}
        }
      ]
    },
    {
      "cell_type": "markdown",
      "source": [
        "#### Findings_5:\n",
        "\n",
        "* Most common used offensive words are fuck, black, bitch, women, jew in our database"
      ],
      "metadata": {
        "id": "mbttmMinE-6f"
      }
    },
    {
      "cell_type": "code",
      "source": [
        "group_by = df.groupby('hasBiasedImplication')['lemma_clean_str'].apply(lambda x: Counter(' '.join(x).split()).most_common(25))\n",
        "group_by_0 = group_by.iloc[0]\n",
        "\n",
        "\n",
        "words0 = list(zip(*group_by_0))[0]\n",
        "freq0 = list(zip(*group_by_0))[1]\n",
        "plt.figure(figsize=(10, 10))\n",
        "plt.bar(words0, freq0)\n",
        "plt.xlabel('Words',fontsize =15, labelpad=20)\n",
        "plt.ylabel('Frequency of Words', fontsize =15, labelpad=20)\n",
        "plt.xticks(rotation=60)\n",
        "plt.title('Frequency of 25 Most Common Words for Rating=1', fontsize =17, pad=20)\n",
        "plt.show()"
      ],
      "metadata": {
        "colab": {
          "base_uri": "https://localhost:8080/",
          "height": 687
        },
        "id": "_QHeB4lLrZWs",
        "outputId": "4206b220-f46d-4463-be03-d79a70829a2b"
      },
      "execution_count": null,
      "outputs": [
        {
          "output_type": "display_data",
          "data": {
            "text/plain": [
              "<Figure size 720x720 with 1 Axes>"
            ],
            "image/png": "[encoded data removed]"
          },
          "metadata": {
            "needs_background": "light"
          }
        }
      ]
    },
    {
      "cell_type": "markdown",
      "source": [
        "#### Apply Word2Vec to see most similar words learning from Model"
      ],
      "metadata": {
        "id": "J0BtWQtUGO0k"
      }
    },
    {
      "cell_type": "code",
      "source": [
        "import warnings\n",
        "warnings.filterwarnings(\"ignore\")"
      ],
      "metadata": {
        "id": "Vl8FVBxJwzWg"
      },
      "execution_count": null,
      "outputs": []
    },
    {
      "cell_type": "code",
      "source": [
        "from gensim.models import Word2Vec\n",
        "from sklearn.manifold import TSNE\n",
        "import matplotlib.pyplot as plt\n",
        "\n",
        "model = Word2Vec(df['clean_post'], size=100, window=5, min_count=5, sg=1)"
      ],
      "metadata": {
        "id": "Hcc783zJGVRA"
      },
      "execution_count": null,
      "outputs": []
    },
    {
      "cell_type": "code",
      "source": [
        "pd.DataFrame(model.wv.most_similar('black'), columns=['Similar Words', 'Similarity'])"
      ],
      "metadata": {
        "colab": {
          "base_uri": "https://localhost:8080/",
          "height": 363
        },
        "id": "QdW0rgdFHLOL",
        "outputId": "d40951e3-6145-4b06-b271-b62088684bba"
      },
      "execution_count": null,
      "outputs": [
        {
          "output_type": "execute_result",
          "data": {
            "text/plain": [
              "  Similar Words  Similarity\n",
              "0         chain    0.847335\n",
              "1           cop    0.841870\n",
              "2      homeless    0.834119\n",
              "3        indian    0.828520\n",
              "4       mexican    0.827414\n",
              "5           kkk    0.824909\n",
              "6         bench    0.822745\n",
              "7        hispan    0.820644\n",
              "8          bike    0.819903\n",
              "9        faster    0.816407"
            ],
            "text/html": [
              "\n",
              "  <div id=\"df-6eaeb683-feb7-474f-be6d-8810fac9f2a1\">\n",
              "    <div class=\"colab-df-container\">\n",
              "      <div>\n",
              "<style scoped>\n",
              "    .dataframe tbody tr th:only-of-type {\n",
              "        vertical-align: middle;\n",
              "    }\n",
              "\n",
              "    .dataframe tbody tr th {\n",
              "        vertical-align: top;\n",
              "    }\n",
              "\n",
              "    .dataframe thead th {\n",
              "        text-align: right;\n",
              "    }\n",
              "</style>\n",
              "<table border=\"1\" class=\"dataframe\">\n",
              "  <thead>\n",
              "    <tr style=\"text-align: right;\">\n",
              "      <th></th>\n",
              "      <th>Similar Words</th>\n",
              "      <th>Similarity</th>\n",
              "    </tr>\n",
              "  </thead>\n",
              "  <tbody>\n",
              "    <tr>\n",
              "      <th>0</th>\n",
              "      <td>chain</td>\n",
              "      <td>0.847335</td>\n",
              "    </tr>\n",
              "    <tr>\n",
              "      <th>1</th>\n",
              "      <td>cop</td>\n",
              "      <td>0.841870</td>\n",
              "    </tr>\n",
              "    <tr>\n",
              "      <th>2</th>\n",
              "      <td>homeless</td>\n",
              "      <td>0.834119</td>\n",
              "    </tr>\n",
              "    <tr>\n",
              "      <th>3</th>\n",
              "      <td>indian</td>\n",
              "      <td>0.828520</td>\n",
              "    </tr>\n",
              "    <tr>\n",
              "      <th>4</th>\n",
              "      <td>mexican</td>\n",
              "      <td>0.827414</td>\n",
              "    </tr>\n",
              "    <tr>\n",
              "      <th>5</th>\n",
              "      <td>kkk</td>\n",
              "      <td>0.824909</td>\n",
              "    </tr>\n",
              "    <tr>\n",
              "      <th>6</th>\n",
              "      <td>bench</td>\n",
              "      <td>0.822745</td>\n",
              "    </tr>\n",
              "    <tr>\n",
              "      <th>7</th>\n",
              "      <td>hispan</td>\n",
              "      <td>0.820644</td>\n",
              "    </tr>\n",
              "    <tr>\n",
              "      <th>8</th>\n",
              "      <td>bike</td>\n",
              "      <td>0.819903</td>\n",
              "    </tr>\n",
              "    <tr>\n",
              "      <th>9</th>\n",
              "      <td>faster</td>\n",
              "      <td>0.816407</td>\n",
              "    </tr>\n",
              "  </tbody>\n",
              "</table>\n",
              "</div>\n",
              "      <button class=\"colab-df-convert\" onclick=\"convertToInteractive('df-6eaeb683-feb7-474f-be6d-8810fac9f2a1')\"\n",
              "              title=\"Convert this dataframe to an interactive table.\"\n",
              "              style=\"display:none;\">\n",
              "        \n",
              "  <svg xmlns=\"http://www.w3.org/2000/svg\" height=\"24px\"viewBox=\"0 0 24 24\"\n",
              "       width=\"24px\">\n",
              "    <path d=\"M0 0h24v24H0V0z\" fill=\"none\"/>\n",
              "    <path d=\"M18.56 5.44l.94 2.06.94-2.06 2.06-.94-2.06-.94-.94-2.06-.94 2.06-2.06.94zm-11 1L8.5 8.5l.94-2.06 2.06-.94-2.06-.94L8.5 2.5l-.94 2.06-2.06.94zm10 10l.94 2.06.94-2.06 2.06-.94-2.06-.94-.94-2.06-.94 2.06-2.06.94z\"/><path d=\"M17.41 7.96l-1.37-1.37c-.4-.4-.92-.59-1.43-.59-.52 0-1.04.2-1.43.59L10.3 9.45l-7.72 7.72c-.78.78-.78 2.05 0 2.83L4 21.41c.39.39.9.59 1.41.59.51 0 1.02-.2 1.41-.59l7.78-7.78 2.81-2.81c.8-.78.8-2.07 0-2.86zM5.41 20L4 18.59l7.72-7.72 1.47 1.35L5.41 20z\"/>\n",
              "  </svg>\n",
              "      </button>\n",
              "      \n",
              "  <style>\n",
              "    .colab-df-container {\n",
              "      display:flex;\n",
              "      flex-wrap:wrap;\n",
              "      gap: 12px;\n",
              "    }\n",
              "\n",
              "    .colab-df-convert {\n",
              "      background-color: #E8F0FE;\n",
              "      border: none;\n",
              "      border-radius: 50%;\n",
              "      cursor: pointer;\n",
              "      display: none;\n",
              "      fill: #1967D2;\n",
              "      height: 32px;\n",
              "      padding: 0 0 0 0;\n",
              "      width: 32px;\n",
              "    }\n",
              "\n",
              "    .colab-df-convert:hover {\n",
              "      background-color: #E2EBFA;\n",
              "      box-shadow: 0px 1px 2px rgba(60, 64, 67, 0.3), 0px 1px 3px 1px rgba(60, 64, 67, 0.15);\n",
              "      fill: #174EA6;\n",
              "    }\n",
              "\n",
              "    [theme=dark] .colab-df-convert {\n",
              "      background-color: #3B4455;\n",
              "      fill: #D2E3FC;\n",
              "    }\n",
              "\n",
              "    [theme=dark] .colab-df-convert:hover {\n",
              "      background-color: #434B5C;\n",
              "      box-shadow: 0px 1px 3px 1px rgba(0, 0, 0, 0.15);\n",
              "      filter: drop-shadow(0px 1px 2px rgba(0, 0, 0, 0.3));\n",
              "      fill: #FFFFFF;\n",
              "    }\n",
              "  </style>\n",
              "\n",
              "      <script>\n",
              "        const buttonEl =\n",
              "          document.querySelector('#df-6eaeb683-feb7-474f-be6d-8810fac9f2a1 button.colab-df-convert');\n",
              "        buttonEl.style.display =\n",
              "          google.colab.kernel.accessAllowed ? 'block' : 'none';\n",
              "\n",
              "        async function convertToInteractive(key) {\n",
              "          const element = document.querySelector('#df-6eaeb683-feb7-474f-be6d-8810fac9f2a1');\n",
              "          const dataTable =\n",
              "            await google.colab.kernel.invokeFunction('convertToInteractive',\n",
              "                                                     [key], {});\n",
              "          if (!dataTable) return;\n",
              "\n",
              "          const docLinkHtml = 'Like what you see? Visit the ' +\n",
              "            '<a target=\"_blank\" href=https://colab.research.google.com/notebooks/data_table.ipynb>data table notebook</a>'\n",
              "            + ' to learn more about interactive tables.';\n",
              "          element.innerHTML = '';\n",
              "          dataTable['output_type'] = 'display_data';\n",
              "          await google.colab.output.renderOutput(dataTable, element);\n",
              "          const docLink = document.createElement('div');\n",
              "          docLink.innerHTML = docLinkHtml;\n",
              "          element.appendChild(docLink);\n",
              "        }\n",
              "      </script>\n",
              "    </div>\n",
              "  </div>\n",
              "  "
            ]
          },
          "metadata": {},
          "execution_count": 17
        }
      ]
    },
    {
      "cell_type": "code",
      "source": [],
      "metadata": {
        "id": "vplbxRA3r7hv"
      },
      "execution_count": null,
      "outputs": []
    },
    {
      "cell_type": "code",
      "source": [
        "def closestwords_tsneplot(model, word):\n",
        "    '''\n",
        "     bu sınıf verılen modelı ıle kelımeyı alır\n",
        "     kelımeye en yakın kelımelerın vektorlerını bır dızıye atarız\n",
        "     TSNE ıle bu vektorlerı grafıge donustururuz\n",
        "    '''\n",
        "    word_vectors = np.empty((0,100)) # en yakın olanları lısteyi hazırladık\n",
        "    word_labels = [word] #kelımeyı dızı halıne getırdık\n",
        "    \n",
        "    close_words = model.wv.most_similar(word) #yakın olan kelımeler bulundu\n",
        "    \n",
        "    word_vectors = np.append(word_vectors, np.array([model.wv[word]]), axis=0) #gelen kelımenın vektoru eklendı\n",
        "    \n",
        "    for w, _ in close_words: #w kelimenın kendısı dıgerı ıse yakınlık oranı\n",
        "        word_labels.append(w)\n",
        "        word_vectors = np.append(word_vectors, np.array([model.wv[w]]), axis=0) #yakın kelımelerın vektorlerı de eklendı\n",
        "        #boylece  gelen kelıme ve yakın kelımeler word_labels, bunların vektorlerı ise word_vectors akta\n",
        "        \n",
        "    tsne = TSNE(random_state=0) #kelımeleı grafıge doken kutuphane\n",
        "    Y = tsne.fit_transform(word_vectors)\n",
        "    \n",
        "    x_coords = Y[:, 0]\n",
        "    y_coords = Y[:, 1]\n",
        "    \n",
        "    plt.scatter(x_coords, y_coords)\n",
        "    \n",
        "    for label, x, y in zip(word_labels, x_coords, y_coords):\n",
        "        plt.annotate(label, xy=(x, y), xytext=(5, -2), textcoords='offset points')\n",
        "        \n",
        "    plt.show()"
      ],
      "metadata": {
        "id": "ChQvMh6ZHVit"
      },
      "execution_count": null,
      "outputs": []
    },
    {
      "cell_type": "code",
      "source": [
        "closestwords_tsneplot(model, 'piss')"
      ],
      "metadata": {
        "colab": {
          "base_uri": "https://localhost:8080/",
          "height": 265
        },
        "id": "eSm7stdsHbXP",
        "outputId": "5d49621f-d5e8-439b-df62-658ac440c8dd"
      },
      "execution_count": null,
      "outputs": [
        {
          "output_type": "display_data",
          "data": {
            "text/plain": [
              "<Figure size 432x288 with 1 Axes>"
            ],
            "image/png": "[encoded data removed]"
          },
          "metadata": {
            "needs_background": "light"
          }
        }
      ]
    },
    {
      "cell_type": "code",
      "source": [
        "closestwords_tsneplot(model, 'black')"
      ],
      "metadata": {
        "colab": {
          "base_uri": "https://localhost:8080/",
          "height": 265
        },
        "id": "ZQHAqKS1Hhwa",
        "outputId": "ee86b9dc-48b9-4f21-f9de-a8f9737b402f"
      },
      "execution_count": null,
      "outputs": [
        {
          "output_type": "display_data",
          "data": {
            "text/plain": [
              "<Figure size 432x288 with 1 Axes>"
            ],
            "image/png": "[encoded data removed]"
          },
          "metadata": {
            "needs_background": "light"
          }
        }
      ]
    },
    {
      "cell_type": "markdown",
      "source": [
        "#### Install and pull required packages for transformers"
      ],
      "metadata": {
        "id": "l9Idw4JD7hrb"
      }
    },
    {
      "cell_type": "code",
      "source": [
        "!pip install transformers"
      ],
      "metadata": {
        "colab": {
          "base_uri": "https://localhost:8080/"
        },
        "id": "zFo7knhwf8mx",
        "outputId": "5a9437cb-d6f1-4f46-b2d5-6daac6d2af7d"
      },
      "execution_count": null,
      "outputs": [
        {
          "output_type": "stream",
          "name": "stdout",
          "text": [
            "Looking in indexes: https://pypi.org/simple, https://us-python.pkg.dev/colab-wheels/public/simple/\n",
            "Collecting transformers\n",
            "  Downloading transformers-4.25.1-py3-none-any.whl (5.8 MB)\n",
            "\u001b[K     |████████████████████████████████| 5.8 MB 23.7 MB/s \n",
            "\u001b[?25hRequirement already satisfied: pyyaml>=5.1 in /usr/local/lib/python3.8/dist-packages (from transformers) (6.0)\n",
            "Collecting tokenizers!=0.11.3,<0.14,>=0.11.1\n",
            "  Downloading tokenizers-0.13.2-cp38-cp38-manylinux_2_17_x86_64.manylinux2014_x86_64.whl (7.6 MB)\n",
            "\u001b[K     |████████████████████████████████| 7.6 MB 62.7 MB/s \n",
            "\u001b[?25hRequirement already satisfied: regex!=2019.12.17 in /usr/local/lib/python3.8/dist-packages (from transformers) (2022.6.2)\n",
            "Requirement already satisfied: packaging>=20.0 in /usr/local/lib/python3.8/dist-packages (from transformers) (21.3)\n",
            "Collecting huggingface-hub<1.0,>=0.10.0\n",
            "  Downloading huggingface_hub-0.11.1-py3-none-any.whl (182 kB)\n",
            "\u001b[K     |████████████████████████████████| 182 kB 76.6 MB/s \n",
            "\u001b[?25hRequirement already satisfied: numpy>=1.17 in /usr/local/lib/python3.8/dist-packages (from transformers) (1.21.6)\n",
            "Requirement already satisfied: filelock in /usr/local/lib/python3.8/dist-packages (from transformers) (3.8.0)\n",
            "Requirement already satisfied: requests in /usr/local/lib/python3.8/dist-packages (from transformers) (2.23.0)\n",
            "Requirement already satisfied: tqdm>=4.27 in /usr/local/lib/python3.8/dist-packages (from transformers) (4.64.1)\n",
            "Requirement already satisfied: typing-extensions>=3.7.4.3 in /usr/local/lib/python3.8/dist-packages (from huggingface-hub<1.0,>=0.10.0->transformers) (4.1.1)\n",
            "Requirement already satisfied: pyparsing!=3.0.5,>=2.0.2 in /usr/local/lib/python3.8/dist-packages (from packaging>=20.0->transformers) (3.0.9)\n",
            "Requirement already satisfied: urllib3!=1.25.0,!=1.25.1,<1.26,>=1.21.1 in /usr/local/lib/python3.8/dist-packages (from requests->transformers) (1.24.3)\n",
            "Requirement already satisfied: idna<3,>=2.5 in /usr/local/lib/python3.8/dist-packages (from requests->transformers) (2.10)\n",
            "Requirement already satisfied: chardet<4,>=3.0.2 in /usr/local/lib/python3.8/dist-packages (from requests->transformers) (3.0.4)\n",
            "Requirement already satisfied: certifi>=2017.4.17 in /usr/local/lib/python3.8/dist-packages (from requests->transformers) (2022.9.24)\n",
            "Installing collected packages: tokenizers, huggingface-hub, transformers\n",
            "Successfully installed huggingface-hub-0.11.1 tokenizers-0.13.2 transformers-4.25.1\n"
          ]
        }
      ]
    },
    {
      "cell_type": "code",
      "source": [
        "import torch\n",
        "import numpy as np\n",
        "import matplotlib.pyplot as plt\n",
        "\n",
        "from google.colab import drive\n",
        "from torch import nn\n",
        "from torch.optim import Adam\n",
        "from transformers import GPT2Model, GPT2Tokenizer\n",
        "from tqdm import tqdm\n",
        "\n",
        "from sklearn.metrics import confusion_matrix\n",
        "from sklearn.metrics import ConfusionMatrixDisplay"
      ],
      "metadata": {
        "id": "rAlrMiJFgH4m"
      },
      "execution_count": null,
      "outputs": []
    },
    {
      "cell_type": "code",
      "source": [
        "# filtering the required columns\n",
        "df_f = df[['post', 'hasBiasedImplication']]\n",
        "df_o = df[['post', 'offensiveYN']]\n",
        "df_c = df[['post', 'targetCategory']]\n",
        "\n",
        "tokenizer = GPT2Tokenizer.from_pretrained('gpt2')\n",
        "tokenizer.padding_side = \"left\"\n",
        "tokenizer.pad_token = tokenizer.eos_token\n",
        "\n",
        "df_o.loc[df_o['offensiveYN'] >= 0.5, 'offensiveYN'] = 1\n",
        "df_o.loc[df_o['offensiveYN'] < 0.5, 'offensiveYN'] = 0\n",
        "df_o = df_o.astype({'offensiveYN': 'int32'})"
      ],
      "metadata": {
        "colab": {
          "base_uri": "https://localhost:8080/",
          "referenced_widgets": [
            "71325407fd0f439fa93918cdeb9e0ff9",
            "1e56b139db3846b5b2bcb8de98afddb4",
            "ccdb9a08dca4459db19a5ee108c547cb",
            "3e11e103e591421885366cf73e0d8851",
            "46d1bd68f69148688ba4eb82b8f7e6ce",
            "9eca9b8f1b18447eb2f6522c908890c7",
            "bf59e38d37574a20bb4ece61005071ef",
            "ff77ee0f9ae5481e9fbecf9fc6fdd2ca",
            "a62081ad70bd452384253d771a84c5b5",
            "5ce3242286ac499e9a214f59a07f6bde",
            "250ca3dd383e4e09b8ddc4a08cd8b43c",
            "6990b2e28ab0438e81fc2e8d2cb6feec",
            "d09a01672f714028ae725b55312befd2",
            "3712a549ff2c4764b5623fa1c3cc517e",
            "46630c43b7e54acf957d749980efb004",
            "77c528a8ea41446683a1756c774ba4f9",
            "62d46ca4031b4b09a59883bee119ef69",
            "80fbc25949144ac6809ff89a4dbca2db",
            "a8c1032c6cb74eae91e5b81a537c9d2f",
            "1f84f08fbcf74a839fba5ce804066ea5",
            "68278b63be524058a39d45581a41b3b8",
            "e2d0d0557b0c4c22a14cab6dbb4c8017",
            "56e86376824d4a0f9e3bc4eba70d1580",
            "777f3510e7d94c339cac11acfb479e7a",
            "45fca1e71dd74464b151087a43e29134",
            "512a0ddc90d14e33b86ba8abbd829a9e",
            "0bef20e64639492fbbbe688c4c40c0ef",
            "9a0ef2c474374043a2ed8cf49617dd07",
            "5b359c5d9b2c4fc8912213e75243b4ca",
            "80313504e3a1431ab62d214880a081b3",
            "25b99dd0091d4f1fa075cb22328bfbf6",
            "9ce466dbde624088aee8bfc62c105a59",
            "5eceea84286e4b779cc31e7dbbcadff7"
          ],
          "height": 113
        },
        "id": "jtFmg7V8kLZs",
        "outputId": "62b34bef-5f56-4cff-a6c5-fc944a2ce6cd"
      },
      "execution_count": null,
      "outputs": [
        {
          "output_type": "display_data",
          "data": {
            "text/plain": [
              "Downloading:   0%|          | 0.00/1.04M [00:00<?, ?B/s]"
            ],
            "application/vnd.jupyter.widget-view+json": {
              "version_major": 2,
              "version_minor": 0,
              "model_id": "71325407fd0f439fa93918cdeb9e0ff9"
            }
          },
          "metadata": {}
        },
        {
          "output_type": "display_data",
          "data": {
            "text/plain": [
              "Downloading:   0%|          | 0.00/456k [00:00<?, ?B/s]"
            ],
            "application/vnd.jupyter.widget-view+json": {
              "version_major": 2,
              "version_minor": 0,
              "model_id": "6990b2e28ab0438e81fc2e8d2cb6feec"
            }
          },
          "metadata": {}
        },
        {
          "output_type": "display_data",
          "data": {
            "text/plain": [
              "Downloading:   0%|          | 0.00/665 [00:00<?, ?B/s]"
            ],
            "application/vnd.jupyter.widget-view+json": {
              "version_major": 2,
              "version_minor": 0,
              "model_id": "56e86376824d4a0f9e3bc4eba70d1580"
            }
          },
          "metadata": {}
        }
      ]
    },
    {
      "cell_type": "markdown",
      "source": [
        "#### DataRead"
      ],
      "metadata": {
        "id": "fpOaEN0vqB-o"
      }
    },
    {
      "cell_type": "code",
      "source": [
        "class Dataset_c(torch.utils.data.Dataset):\n",
        "    def __init__(self, df, labels_values, lable_column, data_column):\n",
        "        if labels_values is None:\n",
        "          self.labels = [label for label in df[lable_column]] # check\n",
        "        else:\n",
        "          self.labels = [labels_values[label] for label in df[lable_column]]\n",
        "        self.texts = [tokenizer(text,\n",
        "                                padding='max_length',\n",
        "                                max_length=128,\n",
        "                                truncation=True,\n",
        "                                return_tensors=\"pt\") for text in df[data_column]]\n",
        "        \n",
        "    def classes(self):\n",
        "        return self.labels\n",
        "    \n",
        "    def __len__(self):\n",
        "        return len(self.labels)\n",
        "    \n",
        "    def get_batch_labels(self, idx):\n",
        "        # Get a batch of labels\n",
        "        return np.array(self.labels[idx])\n",
        "    \n",
        "    def get_batch_texts(self, idx):\n",
        "        # Get a batch of inputs\n",
        "        return self.texts[idx]\n",
        "    \n",
        "    def __getitem__(self, idx):\n",
        "        batch_texts = self.get_batch_texts(idx)\n",
        "        batch_y = self.get_batch_labels(idx)\n",
        "        return batch_texts, batch_y"
      ],
      "metadata": {
        "id": "aEdiRe4M26wW"
      },
      "execution_count": null,
      "outputs": []
    },
    {
      "cell_type": "code",
      "source": [
        "class SimpleGPT2SequenceClassifier(nn.Module):\n",
        "    def __init__(self, hidden_size: int, num_classes:int ,max_seq_len:int, gpt_model_name:str):\n",
        "        super(SimpleGPT2SequenceClassifier,self).__init__()\n",
        "        self.gpt2model = GPT2Model.from_pretrained(gpt_model_name)\n",
        "        self.fc1 = nn.Linear(hidden_size*max_seq_len, num_classes)\n",
        "\n",
        "        \n",
        "    def forward(self, input_id, mask):\n",
        "        \"\"\"\n",
        "        Args:\n",
        "                input_id: encoded inputs ids of sent.\n",
        "        \"\"\"\n",
        "        gpt_out, _ = self.gpt2model(input_ids=input_id, attention_mask=mask, return_dict=False)\n",
        "        batch_size = gpt_out.shape[0]\n",
        "        linear_output = self.fc1(gpt_out.view(batch_size,-1))\n",
        "        return linear_output"
      ],
      "metadata": {
        "id": "uwnWFATvc7Xe"
      },
      "execution_count": null,
      "outputs": []
    },
    {
      "cell_type": "code",
      "source": [
        "def train(model, train_data, val_data, learning_rate, epochs):\n",
        "    train, val = train_data, val_data\n",
        "    \n",
        "    train_dataloader = torch.utils.data.DataLoader(train, batch_size=2, shuffle=True)\n",
        "    val_dataloader = torch.utils.data.DataLoader(val, batch_size=2)\n",
        "    \n",
        "    use_cuda = torch.cuda.is_available()\n",
        "    device = torch.device(\"cuda\" if use_cuda else \"cpu\")\n",
        "    \n",
        "    criterion = nn.CrossEntropyLoss()\n",
        "    optimizer = Adam(model.parameters(), lr=learning_rate)\n",
        "    \n",
        "    if use_cuda:\n",
        "        model = model.cuda()\n",
        "        criterion = criterion.cuda()\n",
        "\n",
        "    for epoch_num in range(epochs):\n",
        "        total_acc_train = 0\n",
        "        total_loss_train = 0\n",
        "        \n",
        "        for train_input, train_label in tqdm(train_dataloader):\n",
        "            train_label = train_label.to(device)\n",
        "            mask = train_input['attention_mask'].to(device)\n",
        "            input_id = train_input[\"input_ids\"].squeeze(1).to(device)\n",
        "            \n",
        "            model.zero_grad()\n",
        "\n",
        "            output = model(input_id, mask)\n",
        "            \n",
        "            batch_loss = criterion(output, train_label)\n",
        "            total_loss_train += batch_loss.item()\n",
        "            \n",
        "            acc = (output.argmax(dim=1)==train_label).sum().item()\n",
        "            total_acc_train += acc\n",
        "\n",
        "            batch_loss.backward()\n",
        "            optimizer.step()\n",
        "            \n",
        "        total_acc_val = 0\n",
        "        total_loss_val = 0\n",
        "        \n",
        "        with torch.no_grad():\n",
        "            \n",
        "            for val_input, val_label in val_dataloader:\n",
        "                val_label = val_label.to(device)\n",
        "                mask = val_input['attention_mask'].to(device)\n",
        "                input_id = val_input['input_ids'].squeeze(1).to(device)\n",
        "                \n",
        "                output = model(input_id, mask)\n",
        "                \n",
        "                batch_loss = criterion(output, val_label)\n",
        "                total_loss_val += batch_loss.item()\n",
        "                \n",
        "                acc = (output.argmax(dim=1)==val_label).sum().item()\n",
        "                total_acc_val += acc\n",
        "                \n",
        "            print(\n",
        "            f\"Epochs: {epoch_num + 1} | Train Loss: {total_loss_train/len(train_data): .3f} \\\n",
        "            | Train Accuracy: {total_acc_train / len(train_data): .3f} \\\n",
        "            | Val Loss: {total_loss_val / len(val_data): .3f} \\\n",
        "            | Val Accuracy: {total_acc_val / len(val_data): .3f}\")"
      ],
      "metadata": {
        "id": "EpuOe2F6c7Zy"
      },
      "execution_count": null,
      "outputs": []
    },
    {
      "cell_type": "code",
      "source": [
        "def evaluate(model, test_data):\n",
        "\n",
        "    test = test_data\n",
        "\n",
        "    test_dataloader = torch.utils.data.DataLoader(test, batch_size=2)\n",
        "\n",
        "    use_cuda = torch.cuda.is_available()\n",
        "    device = torch.device(\"cuda\" if use_cuda else \"cpu\")\n",
        "\n",
        "    if use_cuda:\n",
        "\n",
        "        model = model.cuda()\n",
        "\n",
        "        \n",
        "    # Tracking variables\n",
        "    predictions_labels = []\n",
        "    true_labels = []\n",
        "    \n",
        "    total_acc_test = 0\n",
        "    with torch.no_grad():\n",
        "\n",
        "        for test_input, test_label in test_dataloader:\n",
        "\n",
        "            test_label = test_label.to(device)\n",
        "            mask = test_input['attention_mask'].to(device)\n",
        "            input_id = test_input['input_ids'].squeeze(1).to(device)\n",
        "\n",
        "            output = model(input_id, mask)\n",
        "\n",
        "            acc = (output.argmax(dim=1) == test_label).sum().item()\n",
        "            total_acc_test += acc\n",
        "            \n",
        "            # add original labels\n",
        "            true_labels += test_label.cpu().numpy().flatten().tolist()\n",
        "            # get predicitons to list\n",
        "            predictions_labels += output.argmax(dim=1).cpu().numpy().flatten().tolist()\n",
        "    \n",
        "    print(f'Test Accuracy: {total_acc_test / len(test_data): .3f}')\n",
        "    return true_labels, predictions_labels"
      ],
      "metadata": {
        "id": "qT2AAgP-qZvd"
      },
      "execution_count": null,
      "outputs": []
    },
    {
      "cell_type": "markdown",
      "source": [
        "#### Split the offensive dataset"
      ],
      "metadata": {
        "id": "WOWc-S1kqPA_"
      }
    },
    {
      "cell_type": "code",
      "source": [
        "# offensive or not\n",
        "np.random.seed(112)\n",
        "df_o_train, df_o_val, df_o_test = np.split(df_o.sample(frac=1, random_state=35), [int(0.8*len(df_o)), int(0.9*len(df_o))])\n",
        "\n",
        "print(len(df_o_train), len(df_o_val), len(df_o_test))\n",
        "\n",
        "categories = df_c['targetCategory'].unique()\n",
        "labels_test = {}\n",
        "for i, c in enumerate(categories):\n",
        "  key, value = c, i\n",
        "  labels_test[key] = value\n",
        "\n",
        "# target category\n",
        "df_c_train, df_c_val, df_c_test = np.split(df_c.sample(frac=1, random_state=35), [int(0.8*len(df_c)), int(0.9*len(df_c))])\n",
        "\n",
        "print(len(df_c_train), len(df_c_val), len(df_c_test))\n",
        "\n",
        "\n",
        "\n",
        "# bias or not\n",
        "df_f_train, df_f_val, df_f_test = np.split(df_f.sample(frac=1, random_state=35), [int(0.8*len(df_f)), int(0.9*len(df_f))])\n",
        "\n",
        "print(len(df_f_train), len(df_f_val), len(df_f_test))"
      ],
      "metadata": {
        "colab": {
          "base_uri": "https://localhost:8080/"
        },
        "id": "C-NHnfREqOMZ",
        "outputId": "acffad15-39b6-425c-c9a7-a7a217d3f284"
      },
      "execution_count": null,
      "outputs": [
        {
          "output_type": "stream",
          "name": "stdout",
          "text": [
            "28339 3542 3543\n",
            "28339 3542 3543\n",
            "28339 3542 3543\n"
          ]
        }
      ]
    },
    {
      "cell_type": "code",
      "source": [
        "df_o_train_1 = Dataset_c(df_o_train, None, 'offensiveYN', 'post')\n",
        "df_o_val_1 = Dataset_c(df_o_val, None, 'offensiveYN', 'post')\n",
        "df_o_test_1 = Dataset_c(df_o_test, None, 'offensiveYN', 'post')\n",
        "\n",
        "df_c_train_1 = Dataset_c(df_c_train, labels_test, 'targetCategory', 'post')\n",
        "df_c_val_1 = Dataset_c(df_c_val, labels_test, 'targetCategory', 'post')\n",
        "df_c_test_1 = Dataset_c(df_c_test, labels_test, 'targetCategory', 'post')\n",
        "\n",
        "df_f_train_1 = Dataset_c(df_f_train, None, 'hasBiasedImplication', 'post')\n",
        "df_f_val_1 = Dataset_c(df_f_val, None, 'hasBiasedImplication', 'post')\n",
        "df_f_test_1 = Dataset_c(df_f_test, None, 'hasBiasedImplication', 'post')"
      ],
      "metadata": {
        "id": "P83-hJ-Z2qdY"
      },
      "execution_count": null,
      "outputs": []
    },
    {
      "cell_type": "markdown",
      "source": [
        "#### Train Offensive Classification Model"
      ],
      "metadata": {
        "id": "pKHATIlsqTZu"
      }
    },
    {
      "cell_type": "code",
      "source": [
        "EPOCHS = 1\n",
        "model1 = SimpleGPT2SequenceClassifier(hidden_size=768, num_classes=2, max_seq_len=128, gpt_model_name=\"gpt2\")\n",
        "LR = 1e-5\n",
        "\n",
        "train(model1, df_o_train_1, df_o_val_1, LR, EPOCHS)"
      ],
      "metadata": {
        "colab": {
          "base_uri": "https://localhost:8080/",
          "height": 84,
          "referenced_widgets": [
            "9bde793dda3b4f388fb5747ce8241ff7",
            "3342b20dd95f4f03a0b7ee750d04f36a",
            "5ac0ce10f2b341d5a1d240097deb7452",
            "32fdd191feda4a44abf6c1e985f2a5dd",
            "f03ddcca3d4c40c9b388ee6a012ecde8",
            "884fe94a8a844510ab7b7e483db2ebb3",
            "e0ad0b8983f14d809b034f0b0edb2572",
            "e0f74ab8f94c46e0a3e93ffd400ddf8b",
            "78571665995846668ce26dcf3db2e2c6",
            "b61bd000fb2f4939bd5ba83610de1809",
            "e8b2d84e9d4344d29a50646e31e6237a"
          ]
        },
        "id": "nKCapbcsdmvZ",
        "outputId": "d67427a5-5f63-4ea2-c063-1852627f7fc0"
      },
      "execution_count": null,
      "outputs": [
        {
          "output_type": "display_data",
          "data": {
            "text/plain": [
              "Downloading:   0%|          | 0.00/548M [00:00<?, ?B/s]"
            ],
            "application/vnd.jupyter.widget-view+json": {
              "version_major": 2,
              "version_minor": 0,
              "model_id": "9bde793dda3b4f388fb5747ce8241ff7"
            }
          },
          "metadata": {}
        },
        {
          "output_type": "stream",
          "name": "stderr",
          "text": [
            "100%|██████████| 14170/14170 [23:04<00:00, 10.23it/s]\n"
          ]
        },
        {
          "output_type": "stream",
          "name": "stdout",
          "text": [
            "Epochs: 1 | Train Loss:  0.251             | Train Accuracy:  0.758             | Val Loss:  0.215             | Val Accuracy:  0.803\n"
          ]
        }
      ]
    },
    {
      "cell_type": "code",
      "source": [
        "EPOCHS = 1\n",
        "model2 = SimpleGPT2SequenceClassifier(hidden_size=768, num_classes=50, max_seq_len=128, gpt_model_name=\"gpt2\")\n",
        "LR = 1e-5\n",
        "\n",
        "train(model2, df_c_train_1, df_c_val_1, LR, EPOCHS)"
      ],
      "metadata": {
        "colab": {
          "base_uri": "https://localhost:8080/"
        },
        "id": "sDtWq8oX8cQp",
        "outputId": "6d9771cc-2d25-4aba-9890-69b3fcfb8787"
      },
      "execution_count": null,
      "outputs": [
        {
          "output_type": "stream",
          "name": "stderr",
          "text": [
            "100%|██████████| 14170/14170 [23:30<00:00, 10.04it/s]\n"
          ]
        },
        {
          "output_type": "stream",
          "name": "stdout",
          "text": [
            "Epochs: 1 | Train Loss:  0.488             | Train Accuracy:  0.714             | Val Loss:  0.421             | Val Accuracy:  0.740\n"
          ]
        }
      ]
    },
    {
      "cell_type": "code",
      "source": [
        "EPOCHS = 1\n",
        "model3 = SimpleGPT2SequenceClassifier(hidden_size=768, num_classes=2, max_seq_len=128, gpt_model_name=\"gpt2\")\n",
        "LR = 1e-5\n",
        "\n",
        "train(model3, df_f_train_1, df_f_val_1, LR, EPOCHS)"
      ],
      "metadata": {
        "id": "Js1P1Fl29mdk",
        "colab": {
          "base_uri": "https://localhost:8080/"
        },
        "outputId": "28b88f21-9675-42a5-cf07-e30d7dad95d8"
      },
      "execution_count": null,
      "outputs": [
        {
          "output_type": "stream",
          "name": "stderr",
          "text": [
            "100%|██████████| 14170/14170 [23:02<00:00, 10.25it/s]\n"
          ]
        },
        {
          "output_type": "stream",
          "name": "stdout",
          "text": [
            "Epochs: 1 | Train Loss:  0.242             | Train Accuracy:  0.766             | Val Loss:  0.209             | Val Accuracy:  0.797\n"
          ]
        }
      ]
    },
    {
      "cell_type": "markdown",
      "source": [
        "#### Evaluate the Offensive Classification Model"
      ],
      "metadata": {
        "id": "N-6O19w9qdnG"
      }
    },
    {
      "cell_type": "code",
      "source": [
        "true_labels_o, pred_labels_o = evaluate(model1, df_o_test_1)\n"
      ],
      "metadata": {
        "id": "isUUVbxhdm0u",
        "colab": {
          "base_uri": "https://localhost:8080/"
        },
        "outputId": "88fd156d-5eea-44fa-aa8c-5bc6215e6eb5"
      },
      "execution_count": null,
      "outputs": [
        {
          "output_type": "stream",
          "name": "stdout",
          "text": [
            "Test Accuracy:  0.797\n"
          ]
        }
      ]
    },
    {
      "cell_type": "code",
      "source": [
        "true_labels_c, pred_labels_c = evaluate(model2, df_c_test_1)"
      ],
      "metadata": {
        "id": "_eB2Pe0R8fIx",
        "colab": {
          "base_uri": "https://localhost:8080/"
        },
        "outputId": "f7d08164-1c6d-4be4-9390-74d8e66b6478"
      },
      "execution_count": null,
      "outputs": [
        {
          "output_type": "stream",
          "name": "stdout",
          "text": [
            "Test Accuracy:  0.740\n"
          ]
        }
      ]
    },
    {
      "cell_type": "code",
      "source": [
        "true_labels_f, pred_labels_f = evaluate(model3, df_f_test_1)"
      ],
      "metadata": {
        "id": "G0BkJfO49vzY",
        "colab": {
          "base_uri": "https://localhost:8080/"
        },
        "outputId": "65f79b2a-6f09-4ec8-bb24-847da0783b19"
      },
      "execution_count": null,
      "outputs": [
        {
          "output_type": "stream",
          "name": "stdout",
          "text": [
            "Test Accuracy:  0.795\n"
          ]
        }
      ]
    },
    {
      "cell_type": "markdown",
      "source": [
        "### Save the model"
      ],
      "metadata": {
        "id": "lTdc0zGsNg2f"
      }
    },
    {
      "cell_type": "code",
      "source": [
        "model_save_name = 'Offensive.pt'\n",
        "path = F\"/content/gdrive/My Drive/Colab Notebooks/models/{model_save_name}\" \n",
        "torch.save(model1.state_dict(), path)\n",
        "\n",
        "model_save_name = 'Category.pt'\n",
        "path = F\"/content/gdrive/My Drive/Colab Notebooks/models/{model_save_name}\" \n",
        "torch.save(model2.state_dict(), path)\n",
        "\n",
        "model_save_name = 'BiasImplication.pt'\n",
        "path = F\"/content/gdrive/My Drive/Colab Notebooks/models/{model_save_name}\" \n",
        "torch.save(model3.state_dict(), path)\n"
      ],
      "metadata": {
        "id": "SE8HesE_Nfsd"
      },
      "execution_count": null,
      "outputs": []
    },
    {
      "cell_type": "code",
      "source": [
        "\n",
        "\"\"\"# load trained model\n",
        "model_new = SimpleGPT2SequenceClassifier(hidden_size=768, num_classes=2, max_seq_len=128, gpt_model_name=\"gpt2\")\n",
        "model_new.load_state_dict(torch.load(\"./gpt2-text-classifier-model.pt\"))\n",
        "model_new.eval()\n",
        "\n",
        "example_text = \"\"\"\n",
        "Women always have to work more to get high pay when considred with men\n",
        "\n",
        "\"\"\"\n",
        "fixed_text = \" \".join(example_text.lower().split())\n",
        "print(fixed_text)\n",
        "\n",
        "tokenizer = GPT2Tokenizer.from_pretrained('gpt2')\n",
        "tokenizer.padding_side = \"left\"\n",
        "tokenizer.pad_token = tokenizer.eos_token\n",
        "\n",
        "model_input = tokenizer(fixed_text, padding='max_length', max_length=128, truncation=True, return_tensors=\"pt\")\n",
        "\n",
        "mask = model_input['attention_mask'].cpu()\n",
        "input_id = model_input[\"input_ids\"].squeeze(1).cpu()\n",
        "\n",
        "output = model_new(input_id, mask)\n",
        "prob = torch.nn.functional.softmax(output, dim=1)[0]\n",
        "\n",
        "labels_map = {\n",
        "      0: \"not offensive\",\n",
        "      1: \"offensive\"\n",
        "          }\n",
        "\n",
        "pred_label = labels_map[output.argmax(dim=1).item()]\n",
        "print(pred_label)\"\"\""
      ],
      "metadata": {
        "id": "MN8iJ6UD0sHR",
        "colab": {
          "base_uri": "https://localhost:8080/",
          "height": 131
        },
        "outputId": "03dade7a-1de4-4a4e-9de2-f6d8876ce03a"
      },
      "execution_count": null,
      "outputs": [
        {
          "output_type": "error",
          "ename": "SyntaxError",
          "evalue": "ignored",
          "traceback": [
            "\u001b[0;36m  File \u001b[0;32m\"<ipython-input-38-4ad04339e61c>\"\u001b[0;36m, line \u001b[0;32m7\u001b[0m\n\u001b[0;31m    Women always have to work more to get high pay when considred with men\u001b[0m\n\u001b[0m          ^\u001b[0m\n\u001b[0;31mSyntaxError\u001b[0m\u001b[0;31m:\u001b[0m invalid syntax\n"
          ]
        }
      ]
    },
    {
      "cell_type": "code",
      "source": [
        "#torch.save(model1.state_dict(), \"./gpt2-text-classifier-model.pt\")\n",
        "\n",
        "# load trained model\n"
      ],
      "metadata": {
        "id": "1I7PhG6zGFRM"
      },
      "execution_count": null,
      "outputs": []
    },
    {
      "cell_type": "code",
      "source": [
        "\"\"\"labels_map_b = {\n",
        "      0: \"biased\",\n",
        "      1: \"unbiased\"\n",
        "          }\n",
        "\n",
        "labels_map_o = {\n",
        "      0: \"not offensive\",\n",
        "      1: \"offensive\"\n",
        "          }\n",
        "\n",
        "def predict_hasbiasornot(model, text, labels_map_v, model_path):\n",
        "\n",
        "  model_new1 = SimpleGPT2SequenceClassifier(hidden_size=768, num_classes=2, max_seq_len=128, gpt_model_name=\"gpt2\")\n",
        "  model_new1.load_state_dict(torch.load(model_path))\n",
        "  model_new1.eval()\n",
        "\n",
        "  fixed_text = \" \".join(text.lower().split())\n",
        "  # tokenize the text\n",
        "  tokenizer = GPT2Tokenizer.from_pretrained('gpt2')\n",
        "  tokenizer.padding_side = \"left\"\n",
        "  tokenizer.pad_token = tokenizer.eos_token\n",
        "  # create model input\n",
        "  model_input = tokenizer(fixed_text, padding='max_length', max_length=128, truncation=True, return_tensors=\"pt\")\n",
        "\n",
        "  mask = model_input['attention_mask'].cpu()\n",
        "  input_id = model_input[\"input_ids\"].squeeze(1).cpu()\n",
        "\n",
        "  output = model_new1(input_id, mask)\n",
        "  prob = torch.nn.functional.softmax(output, dim=1)[0]\n",
        "\n",
        "  labels_map = labels_map_v\n",
        "\n",
        "  pred_label = labels_map[output.argmax(dim=1).item()]\n",
        "  return pred_label\"\"\""
      ],
      "metadata": {
        "id": "TkI46KiMbcs0",
        "colab": {
          "base_uri": "https://localhost:8080/",
          "height": 122
        },
        "outputId": "d215470e-f924-4ff2-ed08-0836e42c72d8"
      },
      "execution_count": null,
      "outputs": [
        {
          "output_type": "execute_result",
          "data": {
            "text/plain": [
              "'labels_map_b = {\\n      0: \"biased\",\\n      1: \"unbiased\"\\n          }\\n\\nlabels_map_o = {\\n      0: \"not offensive\",\\n      1: \"offensive\"\\n          }\\n\\ndef predict_hasbiasornot(model, text, labels_map_v, model_path):\\n\\n  model_new1 = SimpleGPT2SequenceClassifier(hidden_size=768, num_classes=2, max_seq_len=128, gpt_model_name=\"gpt2\")\\n  model_new1.load_state_dict(torch.load(model_path))\\n  model_new1.eval()\\n\\n  fixed_text = \" \".join(text.lower().split())\\n  # tokenize the text\\n  tokenizer = GPT2Tokenizer.from_pretrained(\\'gpt2\\')\\n  tokenizer.padding_side = \"left\"\\n  tokenizer.pad_token = tokenizer.eos_token\\n  # create model input\\n  model_input = tokenizer(fixed_text, padding=\\'max_length\\', max_length=128, truncation=True, return_tensors=\"pt\")\\n\\n  mask = model_input[\\'attention_mask\\'].cpu()\\n  input_id = model_input[\"input_ids\"].squeeze(1).cpu()\\n\\n  output = model_new1(input_id, mask)\\n  prob = torch.nn.functional.softmax(output, dim=1)[0]\\n\\n  labels_map = labels_map_v\\n\\n  pred_label = labels_map[output.argmax(dim=1).item()]\\n  return pred_label'"
            ],
            "application/vnd.google.colaboratory.intrinsic+json": {
              "type": "string"
            }
          },
          "metadata": {},
          "execution_count": 40
        }
      ]
    },
    {
      "cell_type": "code",
      "source": [
        "# text = \"\"\"\n",
        "# Women always have to work more to get high pay when considred with men\n",
        "\n",
        "# \"\"\"\n",
        "# pred_o = predict_hasbiasornot(model1, text, labels_map_o, \"./gpt2-text-classifier-model.pt\")"
      ],
      "metadata": {
        "id": "Aj-NdxRDFID_"
      },
      "execution_count": null,
      "outputs": []
    },
    {
      "cell_type": "code",
      "source": [
        "# with open(\"model_offensive_ornot.pkl\", \"wb\") as f:\n",
        "#   pickle.dump(model1, f)\n",
        "# f.close()"
      ],
      "metadata": {
        "id": "E9DtUn3mLAjO"
      },
      "execution_count": null,
      "outputs": []
    },
    {
      "cell_type": "code",
      "source": [
        "# with open(\"model_offensive_ornot.pkl\", \"rb\") as f:\n",
        "# \tmodel_new_load  = pickle.load(f)"
      ],
      "metadata": {
        "id": "dTcB9ypYL-nC"
      },
      "execution_count": null,
      "outputs": []
    },
    {
      "cell_type": "code",
      "source": [
        "#!ls /content/gdrive/MyDrive/Colab\\ Notebooks"
      ],
      "metadata": {
        "id": "72-QhMnMMWH1"
      },
      "execution_count": null,
      "outputs": []
    },
    {
      "cell_type": "code",
      "source": [],
      "metadata": {
        "id": "q6HH8jWyMo6y"
      },
      "execution_count": null,
      "outputs": []
    },
    {
      "cell_type": "code",
      "source": [
        "#!pip install gradio"
      ],
      "metadata": {
        "id": "9wCpZ06dM8Il"
      },
      "execution_count": null,
      "outputs": []
    },
    {
      "cell_type": "code",
      "source": [
        "#import gradio as gr"
      ],
      "metadata": {
        "id": "_h5sHdsmNeQN"
      },
      "execution_count": null,
      "outputs": []
    },
    {
      "cell_type": "code",
      "source": [
        "#predict_hasbiasornot('offensive.pt', \"bad people\", labels_map_o, \"/content/gdrive/MyDrive/offensive.pt\")"
      ],
      "metadata": {
        "id": "9sYz44PFi4hX"
      },
      "execution_count": null,
      "outputs": []
    },
    {
      "cell_type": "code",
      "source": [
        "# def greet_user(model_type, input_text):\n",
        "#   if model_type == 'Offensive':\n",
        "# \t  return predict_hasbiasornot(model1, input_text, labels_map_o, \"/content/gdrive/MyDrive/\")\n",
        "#   if model_type == 'Category':\n",
        "#     return 'Category'\n",
        "#   if model_type == 'BiasImplication':\n",
        "#     return 'BiasImplication'\n",
        " \n"
      ],
      "metadata": {
        "id": "kwPqB8bFNije"
      },
      "execution_count": null,
      "outputs": []
    },
    {
      "cell_type": "code",
      "source": [
        "# #Create the input component for Gradio since we are expecting 4 inputs\n",
        "\n",
        "# Model_type = gr.Textbox(label = \"Enter the Model Type - Offensive, Category, BiasImplication\")\n",
        "# input_text = gr.Textbox(label = \"Enter the Post/Comment/Tweet/Sentence\")\n",
        "# # We create the output\n",
        "# output = gr.Textbox()\n",
        "\n",
        "\n",
        "# app = gr.Interface(fn = greet_user, inputs=[Model_type, input_text], outputs=output)\n",
        "# app.launch(share=True)"
      ],
      "metadata": {
        "id": "0YDbcwB5QXwA"
      },
      "execution_count": null,
      "outputs": []
    },
    {
      "cell_type": "code",
      "source": [],
      "metadata": {
        "id": "_QITltxhTN6A"
      },
      "execution_count": null,
      "outputs": []
    }
  ]
}